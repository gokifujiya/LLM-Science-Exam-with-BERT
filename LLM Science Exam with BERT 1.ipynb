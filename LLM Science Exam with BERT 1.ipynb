{
 "cells": [
  {
   "cell_type": "markdown",
   "id": "db281148",
   "metadata": {
    "papermill": {
     "duration": 0.009473,
     "end_time": "2023-07-25T11:23:23.176268",
     "exception": false,
     "start_time": "2023-07-25T11:23:23.166795",
     "status": "completed"
    },
    "tags": []
   },
   "source": [
    "# Introduction\n",
    "\n",
    "This competition involves **building a machine learning model to answer multiple-choice questions that were created by a large language model (LLM)**. The dataset consists of questions with **five possible answers (labeled A through E)**.\n",
    "\n",
    "The task is to **predict the top three most probable answers for each question in the test set**. For each question, there is one answer that is considered the most correct, according to the generating LLM.\n",
    "\n",
    "The specific files are:\n",
    "\n",
    "    train.csv: This file contains **200 example questions along with the correct answers**. This data should be used to train your machine learning model.\n",
    "\n",
    "    test.csv: This file contains the questions for which you must predict the answers. Note that the provided test.csv file is just a placeholder; the actual test data will be provided when your submission is scored. The true test data will have a similar format, but will consist of ~4,000 different questions.\n",
    "\n",
    "    sample_submission.csv: This file shows the correct format for submitting your predictions.\n",
    "\n",
    "For each question in test.csv, your model should predict the labels of the top three most probable answers, separated by spaces. These predictions should be stored in a new column called 'prediction'. The order of the labels matters, with the first label being the most likely answer according to your model, the second label being the second most likely, and so on.\n",
    "\n",
    "Finally, **your predictions should be written to a CSV file for submission**. The submission file should have two columns: 'id' and 'prediction'. The 'id' column should match the 'id' column in test.csv, and the 'prediction' column should contain your model's predictions."
   ]
  },
  {
   "cell_type": "markdown",
   "id": "ab98f96f",
   "metadata": {
    "papermill": {
     "duration": 0.008122,
     "end_time": "2023-07-25T11:23:23.192896",
     "exception": false,
     "start_time": "2023-07-25T11:23:23.184774",
     "status": "completed"
    },
    "tags": []
   },
   "source": [
    "# Load the Train Dataset\n",
    "\n",
    "First, we need to load the dataset using a library like Pandas. In this case, we have train_df which is a DataFrame that contains our training data."
   ]
  },
  {
   "cell_type": "code",
   "execution_count": 1,
   "id": "9642282f",
   "metadata": {
    "execution": {
     "iopub.execute_input": "2023-07-25T11:23:23.210777Z",
     "iopub.status.busy": "2023-07-25T11:23:23.210335Z",
     "iopub.status.idle": "2023-07-25T11:23:23.255908Z",
     "shell.execute_reply": "2023-07-25T11:23:23.255051Z"
    },
    "papermill": {
     "duration": 0.057536,
     "end_time": "2023-07-25T11:23:23.258448",
     "exception": false,
     "start_time": "2023-07-25T11:23:23.200912",
     "status": "completed"
    },
    "tags": []
   },
   "outputs": [
    {
     "data": {
      "text/html": [
       "<div>\n",
       "<style scoped>\n",
       "    .dataframe tbody tr th:only-of-type {\n",
       "        vertical-align: middle;\n",
       "    }\n",
       "\n",
       "    .dataframe tbody tr th {\n",
       "        vertical-align: top;\n",
       "    }\n",
       "\n",
       "    .dataframe thead th {\n",
       "        text-align: right;\n",
       "    }\n",
       "</style>\n",
       "<table border=\"1\" class=\"dataframe\">\n",
       "  <thead>\n",
       "    <tr style=\"text-align: right;\">\n",
       "      <th></th>\n",
       "      <th>id</th>\n",
       "      <th>prompt</th>\n",
       "      <th>A</th>\n",
       "      <th>B</th>\n",
       "      <th>C</th>\n",
       "      <th>D</th>\n",
       "      <th>E</th>\n",
       "      <th>answer</th>\n",
       "    </tr>\n",
       "  </thead>\n",
       "  <tbody>\n",
       "    <tr>\n",
       "      <th>0</th>\n",
       "      <td>0</td>\n",
       "      <td>Which of the following statements accurately d...</td>\n",
       "      <td>MOND is a theory that reduces the observed mis...</td>\n",
       "      <td>MOND is a theory that increases the discrepanc...</td>\n",
       "      <td>MOND is a theory that explains the missing bar...</td>\n",
       "      <td>MOND is a theory that reduces the discrepancy ...</td>\n",
       "      <td>MOND is a theory that eliminates the observed ...</td>\n",
       "      <td>D</td>\n",
       "    </tr>\n",
       "    <tr>\n",
       "      <th>1</th>\n",
       "      <td>1</td>\n",
       "      <td>Which of the following is an accurate definiti...</td>\n",
       "      <td>Dynamic scaling refers to the evolution of sel...</td>\n",
       "      <td>Dynamic scaling refers to the non-evolution of...</td>\n",
       "      <td>Dynamic scaling refers to the evolution of sel...</td>\n",
       "      <td>Dynamic scaling refers to the non-evolution of...</td>\n",
       "      <td>Dynamic scaling refers to the evolution of sel...</td>\n",
       "      <td>A</td>\n",
       "    </tr>\n",
       "    <tr>\n",
       "      <th>2</th>\n",
       "      <td>2</td>\n",
       "      <td>Which of the following statements accurately d...</td>\n",
       "      <td>The triskeles symbol was reconstructed as a fe...</td>\n",
       "      <td>The triskeles symbol is a representation of th...</td>\n",
       "      <td>The triskeles symbol is a representation of a ...</td>\n",
       "      <td>The triskeles symbol represents three interloc...</td>\n",
       "      <td>The triskeles symbol is a representation of th...</td>\n",
       "      <td>A</td>\n",
       "    </tr>\n",
       "    <tr>\n",
       "      <th>3</th>\n",
       "      <td>3</td>\n",
       "      <td>What is the significance of regularization in ...</td>\n",
       "      <td>Regularizing the mass-energy of an electron wi...</td>\n",
       "      <td>Regularizing the mass-energy of an electron wi...</td>\n",
       "      <td>Regularizing the mass-energy of an electron wi...</td>\n",
       "      <td>Regularizing the mass-energy of an electron wi...</td>\n",
       "      <td>Regularizing the mass-energy of an electron wi...</td>\n",
       "      <td>C</td>\n",
       "    </tr>\n",
       "    <tr>\n",
       "      <th>4</th>\n",
       "      <td>4</td>\n",
       "      <td>Which of the following statements accurately d...</td>\n",
       "      <td>The angular spacing of features in the diffrac...</td>\n",
       "      <td>The angular spacing of features in the diffrac...</td>\n",
       "      <td>The angular spacing of features in the diffrac...</td>\n",
       "      <td>The angular spacing of features in the diffrac...</td>\n",
       "      <td>The angular spacing of features in the diffrac...</td>\n",
       "      <td>D</td>\n",
       "    </tr>\n",
       "    <tr>\n",
       "      <th>...</th>\n",
       "      <td>...</td>\n",
       "      <td>...</td>\n",
       "      <td>...</td>\n",
       "      <td>...</td>\n",
       "      <td>...</td>\n",
       "      <td>...</td>\n",
       "      <td>...</td>\n",
       "      <td>...</td>\n",
       "    </tr>\n",
       "    <tr>\n",
       "      <th>195</th>\n",
       "      <td>195</td>\n",
       "      <td>What is the relation between the three moment ...</td>\n",
       "      <td>The three moment theorem expresses the relatio...</td>\n",
       "      <td>The three moment theorem is used to calculate ...</td>\n",
       "      <td>The three moment theorem describes the relatio...</td>\n",
       "      <td>The three moment theorem is used to calculate ...</td>\n",
       "      <td>The three moment theorem is used to derive the...</td>\n",
       "      <td>C</td>\n",
       "    </tr>\n",
       "    <tr>\n",
       "      <th>196</th>\n",
       "      <td>196</td>\n",
       "      <td>What is the throttling process, and why is it ...</td>\n",
       "      <td>The throttling process is a steady flow of a f...</td>\n",
       "      <td>The throttling process is a steady adiabatic f...</td>\n",
       "      <td>The throttling process is a steady adiabatic f...</td>\n",
       "      <td>The throttling process is a steady flow of a f...</td>\n",
       "      <td>The throttling process is a steady adiabatic f...</td>\n",
       "      <td>B</td>\n",
       "    </tr>\n",
       "    <tr>\n",
       "      <th>197</th>\n",
       "      <td>197</td>\n",
       "      <td>What happens to excess base metal as a solutio...</td>\n",
       "      <td>The excess base metal will often solidify, bec...</td>\n",
       "      <td>The excess base metal will often crystallize-o...</td>\n",
       "      <td>The excess base metal will often dissolve, bec...</td>\n",
       "      <td>The excess base metal will often liquefy, beco...</td>\n",
       "      <td>The excess base metal will often evaporate, be...</td>\n",
       "      <td>B</td>\n",
       "    </tr>\n",
       "    <tr>\n",
       "      <th>198</th>\n",
       "      <td>198</td>\n",
       "      <td>What is the relationship between mass, force, ...</td>\n",
       "      <td>Mass is a property that determines the weight ...</td>\n",
       "      <td>Mass is an inertial property that determines a...</td>\n",
       "      <td>Mass is an inertial property that determines a...</td>\n",
       "      <td>Mass is an inertial property that determines a...</td>\n",
       "      <td>Mass is a property that determines the size of...</td>\n",
       "      <td>D</td>\n",
       "    </tr>\n",
       "    <tr>\n",
       "      <th>199</th>\n",
       "      <td>199</td>\n",
       "      <td>What did Arthur Eddington discover about two o...</td>\n",
       "      <td>Arthur Eddington showed that two of Einstein's...</td>\n",
       "      <td>Arthur Eddington showed that two of Einstein's...</td>\n",
       "      <td>Arthur Eddington showed that two of Einstein's...</td>\n",
       "      <td>Arthur Eddington showed that two of Einstein's...</td>\n",
       "      <td>Arthur Eddington showed that two of Einstein's...</td>\n",
       "      <td>C</td>\n",
       "    </tr>\n",
       "  </tbody>\n",
       "</table>\n",
       "<p>200 rows × 8 columns</p>\n",
       "</div>"
      ],
      "text/plain": [
       "      id                                             prompt  \\\n",
       "0      0  Which of the following statements accurately d...   \n",
       "1      1  Which of the following is an accurate definiti...   \n",
       "2      2  Which of the following statements accurately d...   \n",
       "3      3  What is the significance of regularization in ...   \n",
       "4      4  Which of the following statements accurately d...   \n",
       "..   ...                                                ...   \n",
       "195  195  What is the relation between the three moment ...   \n",
       "196  196  What is the throttling process, and why is it ...   \n",
       "197  197  What happens to excess base metal as a solutio...   \n",
       "198  198  What is the relationship between mass, force, ...   \n",
       "199  199  What did Arthur Eddington discover about two o...   \n",
       "\n",
       "                                                     A  \\\n",
       "0    MOND is a theory that reduces the observed mis...   \n",
       "1    Dynamic scaling refers to the evolution of sel...   \n",
       "2    The triskeles symbol was reconstructed as a fe...   \n",
       "3    Regularizing the mass-energy of an electron wi...   \n",
       "4    The angular spacing of features in the diffrac...   \n",
       "..                                                 ...   \n",
       "195  The three moment theorem expresses the relatio...   \n",
       "196  The throttling process is a steady flow of a f...   \n",
       "197  The excess base metal will often solidify, bec...   \n",
       "198  Mass is a property that determines the weight ...   \n",
       "199  Arthur Eddington showed that two of Einstein's...   \n",
       "\n",
       "                                                     B  \\\n",
       "0    MOND is a theory that increases the discrepanc...   \n",
       "1    Dynamic scaling refers to the non-evolution of...   \n",
       "2    The triskeles symbol is a representation of th...   \n",
       "3    Regularizing the mass-energy of an electron wi...   \n",
       "4    The angular spacing of features in the diffrac...   \n",
       "..                                                 ...   \n",
       "195  The three moment theorem is used to calculate ...   \n",
       "196  The throttling process is a steady adiabatic f...   \n",
       "197  The excess base metal will often crystallize-o...   \n",
       "198  Mass is an inertial property that determines a...   \n",
       "199  Arthur Eddington showed that two of Einstein's...   \n",
       "\n",
       "                                                     C  \\\n",
       "0    MOND is a theory that explains the missing bar...   \n",
       "1    Dynamic scaling refers to the evolution of sel...   \n",
       "2    The triskeles symbol is a representation of a ...   \n",
       "3    Regularizing the mass-energy of an electron wi...   \n",
       "4    The angular spacing of features in the diffrac...   \n",
       "..                                                 ...   \n",
       "195  The three moment theorem describes the relatio...   \n",
       "196  The throttling process is a steady adiabatic f...   \n",
       "197  The excess base metal will often dissolve, bec...   \n",
       "198  Mass is an inertial property that determines a...   \n",
       "199  Arthur Eddington showed that two of Einstein's...   \n",
       "\n",
       "                                                     D  \\\n",
       "0    MOND is a theory that reduces the discrepancy ...   \n",
       "1    Dynamic scaling refers to the non-evolution of...   \n",
       "2    The triskeles symbol represents three interloc...   \n",
       "3    Regularizing the mass-energy of an electron wi...   \n",
       "4    The angular spacing of features in the diffrac...   \n",
       "..                                                 ...   \n",
       "195  The three moment theorem is used to calculate ...   \n",
       "196  The throttling process is a steady flow of a f...   \n",
       "197  The excess base metal will often liquefy, beco...   \n",
       "198  Mass is an inertial property that determines a...   \n",
       "199  Arthur Eddington showed that two of Einstein's...   \n",
       "\n",
       "                                                     E answer  \n",
       "0    MOND is a theory that eliminates the observed ...      D  \n",
       "1    Dynamic scaling refers to the evolution of sel...      A  \n",
       "2    The triskeles symbol is a representation of th...      A  \n",
       "3    Regularizing the mass-energy of an electron wi...      C  \n",
       "4    The angular spacing of features in the diffrac...      D  \n",
       "..                                                 ...    ...  \n",
       "195  The three moment theorem is used to derive the...      C  \n",
       "196  The throttling process is a steady adiabatic f...      B  \n",
       "197  The excess base metal will often evaporate, be...      B  \n",
       "198  Mass is a property that determines the size of...      D  \n",
       "199  Arthur Eddington showed that two of Einstein's...      C  \n",
       "\n",
       "[200 rows x 8 columns]"
      ]
     },
     "execution_count": 1,
     "metadata": {},
     "output_type": "execute_result"
    }
   ],
   "source": [
    "import pandas as pd\n",
    "train_df = pd.read_csv('/kaggle/input/kaggle-llm-science-exam/train.csv')\n",
    "train_df"
   ]
  },
  {
   "cell_type": "markdown",
   "id": "5aaa4cec",
   "metadata": {
    "papermill": {
     "duration": 0.008583,
     "end_time": "2023-07-25T11:23:23.276051",
     "exception": false,
     "start_time": "2023-07-25T11:23:23.267468",
     "status": "completed"
    },
    "tags": []
   },
   "source": [
    "# Tokenize and Format the Dataset\n",
    "\n",
    "The LLM understands only numbers, not raw text. Therefore, we need to **tokenize our dataset (convert the text into numbers)** and **format it in the way the LLM expects**. In the case of a multiple-choice question answering task, each sample in our dataset will consist of **a context (the question) and five possible responses (the options)**. We would use **a transformer's tokenizer** for this purpose. For example, **assuming the LLM we are using is based on BERT and tokenizer is a BERT tokenizer**.\n",
    "\n",
    "**The LLM needs to know the correct answer for each question** in the dataset to learn from it. In our dataset, the correct answer is given in the 'answer' column as a letter (A, B, C, D, or E). We need to **convert these letters into indices (0, 1, 2, 3, or 4)** because the LLM works with numbers."
   ]
  },
  {
   "cell_type": "code",
   "execution_count": 2,
   "id": "3192595f",
   "metadata": {
    "execution": {
     "iopub.execute_input": "2023-07-25T11:23:23.295950Z",
     "iopub.status.busy": "2023-07-25T11:23:23.294986Z",
     "iopub.status.idle": "2023-07-25T11:23:27.333568Z",
     "shell.execute_reply": "2023-07-25T11:23:27.332468Z"
    },
    "papermill": {
     "duration": 4.051222,
     "end_time": "2023-07-25T11:23:27.336231",
     "exception": false,
     "start_time": "2023-07-25T11:23:23.285009",
     "status": "completed"
    },
    "tags": []
   },
   "outputs": [],
   "source": [
    "from transformers import AutoTokenizer\n",
    "from datasets import Dataset\n",
    "\n",
    "MODEL_DIR = \"/kaggle/input/huggingface-bert/\"\n",
    "tokenizer = AutoTokenizer.from_pretrained(MODEL_DIR + \"bert-base-uncased\")\n",
    "\n",
    "def encode(row):\n",
    "    # Format the context and the options.\n",
    "    prompt = str(row['prompt'])\n",
    "    options = [str(option) for option in row[['A', 'B', 'C', 'D', 'E']].values.tolist()]\n",
    "    \n",
    "    answer_mapping = {'A': 0, 'B': 1, 'C': 2, 'D': 3, 'E': 4}\n",
    "    correct_answer_id = answer_mapping[row['answer']]\n",
    "\n",
    "    encoded_rows = []\n",
    "    # Tokenize the question and the options, and include the correct answer label.\n",
    "    for idx, option in enumerate(options):\n",
    "        text_pair = [prompt, option]\n",
    "        encoded = tokenizer(text_pair, truncation = True, padding = 'max_length', max_length = 512)\n",
    "        \n",
    "        # We set the label to 1 if this is the correct answer, otherwise 0.\n",
    "        encoded['labels'] = 1 if idx == correct_answer_id else 0\n",
    "        encoded_rows.append(encoded)\n",
    "\n",
    "    return encoded_rows\n",
    "\n",
    "encoded_train = []\n",
    "for _, row in train_df.iterrows():\n",
    "    encoded_train.extend(encode(row))\n",
    "\n",
    "# Now each item in encoded_train is a dictionary representing a single example.\n",
    "# We can convert it into a Dataset.\n",
    "encoded_train_dataset = Dataset.from_dict({key: [dic[key] for dic in encoded_train] for key in encoded_train[0]})"
   ]
  },
  {
   "cell_type": "code",
   "execution_count": 3,
   "id": "0f8b0e4b",
   "metadata": {
    "execution": {
     "iopub.execute_input": "2023-07-25T11:23:27.357070Z",
     "iopub.status.busy": "2023-07-25T11:23:27.356509Z",
     "iopub.status.idle": "2023-07-25T11:23:27.363065Z",
     "shell.execute_reply": "2023-07-25T11:23:27.362018Z"
    },
    "papermill": {
     "duration": 0.018508,
     "end_time": "2023-07-25T11:23:27.365244",
     "exception": false,
     "start_time": "2023-07-25T11:23:27.346736",
     "status": "completed"
    },
    "tags": []
   },
   "outputs": [
    {
     "data": {
      "text/plain": [
       "Dataset({\n",
       "    features: ['input_ids', 'token_type_ids', 'attention_mask', 'labels'],\n",
       "    num_rows: 1000\n",
       "})"
      ]
     },
     "execution_count": 3,
     "metadata": {},
     "output_type": "execute_result"
    }
   ],
   "source": [
    "encoded_train_dataset"
   ]
  },
  {
   "cell_type": "markdown",
   "id": "bead3be7",
   "metadata": {
    "papermill": {
     "duration": 0.008579,
     "end_time": "2023-07-25T11:23:27.385181",
     "exception": false,
     "start_time": "2023-07-25T11:23:27.376602",
     "status": "completed"
    },
    "tags": []
   },
   "source": [
    "The encoded_train_dataset is an instance of the Dataset class from the Hugging Face datasets library. This dataset contains preprocessed and tokenized training data that we can use to train a machine learning model.\n",
    "\n",
    "The features field tells what kind of information each example in the dataset includes. Here, it includes:\n",
    "\n",
    "    input_ids: These are the tokenized inputs to the model. Each token in the input has been mapped to an ID using the vocabulary of the tokenizer.\n",
    "    \n",
    "    token_type_ids: These are used by some models (like BERT) to differentiate between different sequences in the input. For example, it can tell the model where the question ends and where the answer options begin.\n",
    "    \n",
    "    attention_mask: This is used to tell the model which parts of the input are actual content and which parts are padding (i.e., meaningless tokens added to make all inputs the same length).\n",
    "    \n",
    "    labels: These are the correct answers for each question. This is what the model is trying to predict.\n",
    "\n",
    "The num_rows field tells you that there are 1,000 examples in this dataset.\n",
    "\n",
    "Please note that the actual content of the dataset is not shown in this overview. we can access the data using indexing, for example \"encoded_train_dataset[0]\" to get the first example."
   ]
  },
  {
   "cell_type": "code",
   "execution_count": 4,
   "id": "ae18ecd2",
   "metadata": {
    "execution": {
     "iopub.execute_input": "2023-07-25T11:23:27.404524Z",
     "iopub.status.busy": "2023-07-25T11:23:27.404185Z",
     "iopub.status.idle": "2023-07-25T11:23:27.408475Z",
     "shell.execute_reply": "2023-07-25T11:23:27.407493Z"
    },
    "papermill": {
     "duration": 0.01608,
     "end_time": "2023-07-25T11:23:27.410424",
     "exception": false,
     "start_time": "2023-07-25T11:23:27.394344",
     "status": "completed"
    },
    "tags": []
   },
   "outputs": [],
   "source": [
    "#encoded_train_dataset[0]"
   ]
  },
  {
   "cell_type": "markdown",
   "id": "37df6f5c",
   "metadata": {
    "papermill": {
     "duration": 0.008896,
     "end_time": "2023-07-25T11:23:27.428125",
     "exception": false,
     "start_time": "2023-07-25T11:23:27.419229",
     "status": "completed"
    },
    "tags": []
   },
   "source": [
    "# See the Labels"
   ]
  },
  {
   "cell_type": "code",
   "execution_count": 5,
   "id": "cc5610f4",
   "metadata": {
    "execution": {
     "iopub.execute_input": "2023-07-25T11:23:27.447175Z",
     "iopub.status.busy": "2023-07-25T11:23:27.446858Z",
     "iopub.status.idle": "2023-07-25T11:23:27.454322Z",
     "shell.execute_reply": "2023-07-25T11:23:27.452901Z"
    },
    "papermill": {
     "duration": 0.019719,
     "end_time": "2023-07-25T11:23:27.456554",
     "exception": false,
     "start_time": "2023-07-25T11:23:27.436835",
     "status": "completed"
    },
    "tags": []
   },
   "outputs": [
    {
     "name": "stdout",
     "output_type": "stream",
     "text": [
      "[0, 0, 0, 1, 0, 1, 0, 0, 0, 0]\n"
     ]
    }
   ],
   "source": [
    "print(encoded_train_dataset['labels'][:10])"
   ]
  },
  {
   "cell_type": "code",
   "execution_count": 6,
   "id": "4a1beedd",
   "metadata": {
    "execution": {
     "iopub.execute_input": "2023-07-25T11:23:27.475479Z",
     "iopub.status.busy": "2023-07-25T11:23:27.475188Z",
     "iopub.status.idle": "2023-07-25T11:23:27.482331Z",
     "shell.execute_reply": "2023-07-25T11:23:27.481362Z"
    },
    "papermill": {
     "duration": 0.019204,
     "end_time": "2023-07-25T11:23:27.484461",
     "exception": false,
     "start_time": "2023-07-25T11:23:27.465257",
     "status": "completed"
    },
    "tags": []
   },
   "outputs": [],
   "source": [
    "answer_mapping = {'A': 0, 'B': 1, 'C': 2, 'D': 3, 'E': 4}\n",
    "train_labels = train_df['answer'].map(answer_mapping)"
   ]
  },
  {
   "cell_type": "code",
   "execution_count": 7,
   "id": "d211ca56",
   "metadata": {
    "execution": {
     "iopub.execute_input": "2023-07-25T11:23:27.503623Z",
     "iopub.status.busy": "2023-07-25T11:23:27.503310Z",
     "iopub.status.idle": "2023-07-25T11:23:27.510646Z",
     "shell.execute_reply": "2023-07-25T11:23:27.509765Z"
    },
    "papermill": {
     "duration": 0.019152,
     "end_time": "2023-07-25T11:23:27.512734",
     "exception": false,
     "start_time": "2023-07-25T11:23:27.493582",
     "status": "completed"
    },
    "tags": []
   },
   "outputs": [
    {
     "data": {
      "text/plain": [
       "0      3\n",
       "1      0\n",
       "2      0\n",
       "3      2\n",
       "4      3\n",
       "      ..\n",
       "195    2\n",
       "196    1\n",
       "197    1\n",
       "198    3\n",
       "199    2\n",
       "Name: answer, Length: 200, dtype: int64"
      ]
     },
     "execution_count": 7,
     "metadata": {},
     "output_type": "execute_result"
    }
   ],
   "source": [
    "train_labels"
   ]
  },
  {
   "cell_type": "markdown",
   "id": "1ca93b95",
   "metadata": {
    "papermill": {
     "duration": 0.008789,
     "end_time": "2023-07-25T11:23:27.530352",
     "exception": false,
     "start_time": "2023-07-25T11:23:27.521563",
     "status": "completed"
    },
    "tags": []
   },
   "source": [
    "# Initialize the Model\n",
    "\n",
    "We need to initialize the LLM that we will be fine-tuning. We will be using a version of the LLM that is **specifically designed for multiple-choice tasks**.\n",
    "\n",
    "**This time we use BERT-base instead of BERT-large.** The primary difference between the \"base\" and \"large\" versions of BERT models lies in **their size, which is reflected in the number of parameters they have, the number of transformer layers (i.e., the \"depth\" of the network), and the size of these layers (i.e., the \"width\" of the network)**. This directly impacts the model's capacity to learn from data, its computational requirements, and its performance on different tasks.\n",
    "\n",
    "Here's a quick comparison:\n",
    "\n",
    "    BERT-base: BERT-base models are smaller versions, with 12 transformer layers, each with a hidden size of 768, and 12 attention heads. This results in a total of about 110 million parameters.\n",
    "\n",
    "    BERT-large: BERT-large models are much bigger, with 24 transformer layers, each with a hidden size of 1024, and 16 attention heads. This results in a total of about 340 million parameters.\n",
    "\n",
    "**Because BERT-large models are larger and have more parameters, they have a greater capacity to learn and model complex patterns in data.** As a result, they typically perform better on tasks involving understanding natural language. **However, they also require more computational resources (both for training and inference), and the improvements they provide may not always justify the increased computational cost**, depending on the specific application and available resources."
   ]
  },
  {
   "cell_type": "code",
   "execution_count": 8,
   "id": "303086f4",
   "metadata": {
    "execution": {
     "iopub.execute_input": "2023-07-25T11:23:27.549567Z",
     "iopub.status.busy": "2023-07-25T11:23:27.549262Z",
     "iopub.status.idle": "2023-07-25T11:23:43.993795Z",
     "shell.execute_reply": "2023-07-25T11:23:43.992746Z"
    },
    "papermill": {
     "duration": 16.457081,
     "end_time": "2023-07-25T11:23:43.996323",
     "exception": false,
     "start_time": "2023-07-25T11:23:27.539242",
     "status": "completed"
    },
    "tags": []
   },
   "outputs": [
    {
     "name": "stderr",
     "output_type": "stream",
     "text": [
      "/opt/conda/lib/python3.10/site-packages/scipy/__init__.py:146: UserWarning: A NumPy version >=1.16.5 and <1.23.0 is required for this version of SciPy (detected version 1.23.5\n",
      "  warnings.warn(f\"A NumPy version >={np_minversion} and <{np_maxversion}\"\n",
      "/opt/conda/lib/python3.10/site-packages/tensorflow_io/python/ops/__init__.py:98: UserWarning: unable to load libtensorflow_io_plugins.so: unable to open file: libtensorflow_io_plugins.so, from paths: ['/opt/conda/lib/python3.10/site-packages/tensorflow_io/python/ops/libtensorflow_io_plugins.so']\n",
      "caused by: ['/opt/conda/lib/python3.10/site-packages/tensorflow_io/python/ops/libtensorflow_io_plugins.so: undefined symbol: _ZN3tsl6StatusC1EN10tensorflow5error4CodeESt17basic_string_viewIcSt11char_traitsIcEENS_14SourceLocationE']\n",
      "  warnings.warn(f\"unable to load libtensorflow_io_plugins.so: {e}\")\n",
      "/opt/conda/lib/python3.10/site-packages/tensorflow_io/python/ops/__init__.py:104: UserWarning: file system plugins are not loaded: unable to open file: libtensorflow_io.so, from paths: ['/opt/conda/lib/python3.10/site-packages/tensorflow_io/python/ops/libtensorflow_io.so']\n",
      "caused by: ['/opt/conda/lib/python3.10/site-packages/tensorflow_io/python/ops/libtensorflow_io.so: undefined symbol: _ZTVN10tensorflow13GcsFileSystemE']\n",
      "  warnings.warn(f\"file system plugins are not loaded: {e}\")\n",
      "Some weights of the model checkpoint at /kaggle/input/huggingface-bert/bert-base-uncased were not used when initializing BertForMultipleChoice: ['cls.predictions.transform.LayerNorm.bias', 'cls.predictions.decoder.weight', 'cls.seq_relationship.weight', 'cls.predictions.transform.dense.bias', 'cls.predictions.bias', 'cls.seq_relationship.bias', 'cls.predictions.transform.dense.weight', 'cls.predictions.transform.LayerNorm.weight']\n",
      "- This IS expected if you are initializing BertForMultipleChoice from the checkpoint of a model trained on another task or with another architecture (e.g. initializing a BertForSequenceClassification model from a BertForPreTraining model).\n",
      "- This IS NOT expected if you are initializing BertForMultipleChoice from the checkpoint of a model that you expect to be exactly identical (initializing a BertForSequenceClassification model from a BertForSequenceClassification model).\n",
      "Some weights of BertForMultipleChoice were not initialized from the model checkpoint at /kaggle/input/huggingface-bert/bert-base-uncased and are newly initialized: ['classifier.weight', 'classifier.bias']\n",
      "You should probably TRAIN this model on a down-stream task to be able to use it for predictions and inference.\n"
     ]
    }
   ],
   "source": [
    "from transformers import AutoModelForMultipleChoice\n",
    "\n",
    "model = AutoModelForMultipleChoice.from_pretrained(MODEL_DIR + \"bert-base-uncased\")"
   ]
  },
  {
   "cell_type": "markdown",
   "id": "195c0b69",
   "metadata": {
    "papermill": {
     "duration": 0.009324,
     "end_time": "2023-07-25T11:23:44.015315",
     "exception": false,
     "start_time": "2023-07-25T11:23:44.005991",
     "status": "completed"
    },
    "tags": []
   },
   "source": [
    "# Train the Model\n",
    "\n",
    "Finally, we can train the model using a library like Hugging Face's Transformers, which provides an easy-to-use Trainer class. We need to provide our encoded dataset, the correct labels, and some training arguments to the Trainer, and then call the train method to start training.\n",
    "\n",
    "**Remember, this is a simplification. In a real setting, you would probably want to include a validation step, handle the tokenization in a more sophisticated way to deal with long sequences, and so on.**\n",
    "\n",
    "Moreover, **training LLMs from scratch is computationally expensive and can take a very long time, even on multiple GPUs**. In practice, **we often use a pre-trained LLM and fine-tune it on our specific task, which is much quicker and requires less computational resources**."
   ]
  },
  {
   "cell_type": "code",
   "execution_count": 9,
   "id": "299e040f",
   "metadata": {
    "execution": {
     "iopub.execute_input": "2023-07-25T11:23:44.035311Z",
     "iopub.status.busy": "2023-07-25T11:23:44.035001Z",
     "iopub.status.idle": "2023-07-25T11:23:44.042411Z",
     "shell.execute_reply": "2023-07-25T11:23:44.041528Z"
    },
    "papermill": {
     "duration": 0.020039,
     "end_time": "2023-07-25T11:23:44.044625",
     "exception": false,
     "start_time": "2023-07-25T11:23:44.024586",
     "status": "completed"
    },
    "tags": []
   },
   "outputs": [],
   "source": [
    "def compute_metrics(pred):\n",
    "    labels = pred.label_ids\n",
    "    preds = pred.predictions\n",
    "    map3 = mean_average_precision_at_3(labels, preds)\n",
    "    return {\n",
    "        'map3': map3\n",
    "    }\n",
    "\n",
    "def mean_average_precision_at_3(labels, preds):\n",
    "    ap3s = [average_precision_at_3(label, pred) for label, pred in zip(labels, preds)]\n",
    "    return sum(ap3s) / len(ap3s)\n",
    "\n",
    "def average_precision_at_3(label, pred):\n",
    "    try:\n",
    "        return (1 / (pred[:3].index(label) + 1))\n",
    "    except ValueError:\n",
    "        return 0"
   ]
  },
  {
   "cell_type": "markdown",
   "id": "51e0561f",
   "metadata": {
    "papermill": {
     "duration": 0.00883,
     "end_time": "2023-07-25T11:23:44.062751",
     "exception": false,
     "start_time": "2023-07-25T11:23:44.053921",
     "status": "completed"
    },
    "tags": []
   },
   "source": [
    "This code **computes the average precision at 3 for each question, then takes the mean of these scores**. The average_precision_at_3 function returns the precision at the rank of the correct label if it is within the top 3 predictions, or 0 otherwise. It uses the index method to find the rank of the correct label, adding 1 because index is 0-based while ranks are 1-based. The try/except block handles the case where the correct label is not in the top 3 predictions."
   ]
  },
  {
   "cell_type": "code",
   "execution_count": 10,
   "id": "d7e406e8",
   "metadata": {
    "execution": {
     "iopub.execute_input": "2023-07-25T11:23:44.082386Z",
     "iopub.status.busy": "2023-07-25T11:23:44.082098Z",
     "iopub.status.idle": "2023-07-25T11:23:50.378079Z",
     "shell.execute_reply": "2023-07-25T11:23:50.377088Z"
    },
    "papermill": {
     "duration": 6.309196,
     "end_time": "2023-07-25T11:23:50.381146",
     "exception": false,
     "start_time": "2023-07-25T11:23:44.071950",
     "status": "completed"
    },
    "tags": []
   },
   "outputs": [],
   "source": [
    "from transformers import TrainingArguments, Trainer\n",
    "\n",
    "# Disable wandb globally.\n",
    "import os\n",
    "os.environ[\"WANDB_DISABLED\"] = \"true\"\n",
    "\n",
    "training_args = TrainingArguments(\n",
    "    output_dir = './finetuned_bert',  # change to a local directory\n",
    "    num_train_epochs = 3,\n",
    "    per_device_train_batch_size = 8,\n",
    "    learning_rate = 2e-5,\n",
    "    gradient_accumulation_steps = 2,\n",
    "    report_to =  [],  # Disable all integrations.\n",
    ")\n",
    "\n",
    "\n",
    "trainer = Trainer(\n",
    "    model = model,\n",
    "    args = training_args,\n",
    "    train_dataset = encoded_train_dataset,\n",
    "    compute_metrics = compute_metrics,  # optional function to compute metrics for evaluation\n",
    ")"
   ]
  },
  {
   "cell_type": "code",
   "execution_count": 11,
   "id": "0ac7d445",
   "metadata": {
    "execution": {
     "iopub.execute_input": "2023-07-25T11:23:50.410572Z",
     "iopub.status.busy": "2023-07-25T11:23:50.410179Z",
     "iopub.status.idle": "2023-07-25T11:29:10.032172Z",
     "shell.execute_reply": "2023-07-25T11:29:10.031217Z"
    },
    "papermill": {
     "duration": 319.63899,
     "end_time": "2023-07-25T11:29:10.034461",
     "exception": false,
     "start_time": "2023-07-25T11:23:50.395471",
     "status": "completed"
    },
    "tags": []
   },
   "outputs": [
    {
     "name": "stderr",
     "output_type": "stream",
     "text": [
      "/opt/conda/lib/python3.10/site-packages/transformers/optimization.py:411: FutureWarning: This implementation of AdamW is deprecated and will be removed in a future version. Use the PyTorch implementation torch.optim.AdamW instead, or set `no_deprecation_warning=True` to disable this warning\n",
      "  warnings.warn(\n"
     ]
    },
    {
     "data": {
      "text/html": [
       "\n",
       "    <div>\n",
       "      \n",
       "      <progress value='186' max='186' style='width:300px; height:20px; vertical-align: middle;'></progress>\n",
       "      [186/186 05:15, Epoch 2/3]\n",
       "    </div>\n",
       "    <table border=\"1\" class=\"dataframe\">\n",
       "  <thead>\n",
       " <tr style=\"text-align: left;\">\n",
       "      <th>Step</th>\n",
       "      <th>Training Loss</th>\n",
       "    </tr>\n",
       "  </thead>\n",
       "  <tbody>\n",
       "  </tbody>\n",
       "</table><p>"
      ],
      "text/plain": [
       "<IPython.core.display.HTML object>"
      ]
     },
     "metadata": {},
     "output_type": "display_data"
    },
    {
     "data": {
      "text/plain": [
       "TrainOutput(global_step=186, training_loss=0.5147792446997858, metrics={'train_runtime': 319.1931, 'train_samples_per_second': 9.399, 'train_steps_per_second': 0.583, 'total_flos': 1566022940688384.0, 'train_loss': 0.5147792446997858, 'epoch': 2.98})"
      ]
     },
     "execution_count": 11,
     "metadata": {},
     "output_type": "execute_result"
    }
   ],
   "source": [
    "trainer.train()"
   ]
  },
  {
   "cell_type": "markdown",
   "id": "44b1cc6d",
   "metadata": {
    "papermill": {
     "duration": 0.011814,
     "end_time": "2023-07-25T11:29:10.056003",
     "exception": false,
     "start_time": "2023-07-25T11:29:10.044189",
     "status": "completed"
    },
    "tags": []
   },
   "source": [
    "# Predict the Test Data\n",
    "\n",
    "We will make predictions with the trained model and test data."
   ]
  },
  {
   "cell_type": "code",
   "execution_count": 12,
   "id": "d04754f9",
   "metadata": {
    "execution": {
     "iopub.execute_input": "2023-07-25T11:29:10.076755Z",
     "iopub.status.busy": "2023-07-25T11:29:10.076436Z",
     "iopub.status.idle": "2023-07-25T11:29:10.106348Z",
     "shell.execute_reply": "2023-07-25T11:29:10.105335Z"
    },
    "papermill": {
     "duration": 0.043468,
     "end_time": "2023-07-25T11:29:10.109204",
     "exception": false,
     "start_time": "2023-07-25T11:29:10.065736",
     "status": "completed"
    },
    "tags": []
   },
   "outputs": [
    {
     "data": {
      "text/html": [
       "<div>\n",
       "<style scoped>\n",
       "    .dataframe tbody tr th:only-of-type {\n",
       "        vertical-align: middle;\n",
       "    }\n",
       "\n",
       "    .dataframe tbody tr th {\n",
       "        vertical-align: top;\n",
       "    }\n",
       "\n",
       "    .dataframe thead th {\n",
       "        text-align: right;\n",
       "    }\n",
       "</style>\n",
       "<table border=\"1\" class=\"dataframe\">\n",
       "  <thead>\n",
       "    <tr style=\"text-align: right;\">\n",
       "      <th></th>\n",
       "      <th>id</th>\n",
       "      <th>prompt</th>\n",
       "      <th>A</th>\n",
       "      <th>B</th>\n",
       "      <th>C</th>\n",
       "      <th>D</th>\n",
       "      <th>E</th>\n",
       "    </tr>\n",
       "  </thead>\n",
       "  <tbody>\n",
       "    <tr>\n",
       "      <th>0</th>\n",
       "      <td>0</td>\n",
       "      <td>Which of the following statements accurately d...</td>\n",
       "      <td>MOND is a theory that reduces the observed mis...</td>\n",
       "      <td>MOND is a theory that increases the discrepanc...</td>\n",
       "      <td>MOND is a theory that explains the missing bar...</td>\n",
       "      <td>MOND is a theory that reduces the discrepancy ...</td>\n",
       "      <td>MOND is a theory that eliminates the observed ...</td>\n",
       "    </tr>\n",
       "    <tr>\n",
       "      <th>1</th>\n",
       "      <td>1</td>\n",
       "      <td>Which of the following is an accurate definiti...</td>\n",
       "      <td>Dynamic scaling refers to the evolution of sel...</td>\n",
       "      <td>Dynamic scaling refers to the non-evolution of...</td>\n",
       "      <td>Dynamic scaling refers to the evolution of sel...</td>\n",
       "      <td>Dynamic scaling refers to the non-evolution of...</td>\n",
       "      <td>Dynamic scaling refers to the evolution of sel...</td>\n",
       "    </tr>\n",
       "    <tr>\n",
       "      <th>2</th>\n",
       "      <td>2</td>\n",
       "      <td>Which of the following statements accurately d...</td>\n",
       "      <td>The triskeles symbol was reconstructed as a fe...</td>\n",
       "      <td>The triskeles symbol is a representation of th...</td>\n",
       "      <td>The triskeles symbol is a representation of a ...</td>\n",
       "      <td>The triskeles symbol represents three interloc...</td>\n",
       "      <td>The triskeles symbol is a representation of th...</td>\n",
       "    </tr>\n",
       "    <tr>\n",
       "      <th>3</th>\n",
       "      <td>3</td>\n",
       "      <td>What is the significance of regularization in ...</td>\n",
       "      <td>Regularizing the mass-energy of an electron wi...</td>\n",
       "      <td>Regularizing the mass-energy of an electron wi...</td>\n",
       "      <td>Regularizing the mass-energy of an electron wi...</td>\n",
       "      <td>Regularizing the mass-energy of an electron wi...</td>\n",
       "      <td>Regularizing the mass-energy of an electron wi...</td>\n",
       "    </tr>\n",
       "    <tr>\n",
       "      <th>4</th>\n",
       "      <td>4</td>\n",
       "      <td>Which of the following statements accurately d...</td>\n",
       "      <td>The angular spacing of features in the diffrac...</td>\n",
       "      <td>The angular spacing of features in the diffrac...</td>\n",
       "      <td>The angular spacing of features in the diffrac...</td>\n",
       "      <td>The angular spacing of features in the diffrac...</td>\n",
       "      <td>The angular spacing of features in the diffrac...</td>\n",
       "    </tr>\n",
       "    <tr>\n",
       "      <th>...</th>\n",
       "      <td>...</td>\n",
       "      <td>...</td>\n",
       "      <td>...</td>\n",
       "      <td>...</td>\n",
       "      <td>...</td>\n",
       "      <td>...</td>\n",
       "      <td>...</td>\n",
       "    </tr>\n",
       "    <tr>\n",
       "      <th>195</th>\n",
       "      <td>195</td>\n",
       "      <td>What is the relation between the three moment ...</td>\n",
       "      <td>The three moment theorem expresses the relatio...</td>\n",
       "      <td>The three moment theorem is used to calculate ...</td>\n",
       "      <td>The three moment theorem describes the relatio...</td>\n",
       "      <td>The three moment theorem is used to calculate ...</td>\n",
       "      <td>The three moment theorem is used to derive the...</td>\n",
       "    </tr>\n",
       "    <tr>\n",
       "      <th>196</th>\n",
       "      <td>196</td>\n",
       "      <td>What is the throttling process, and why is it ...</td>\n",
       "      <td>The throttling process is a steady flow of a f...</td>\n",
       "      <td>The throttling process is a steady adiabatic f...</td>\n",
       "      <td>The throttling process is a steady adiabatic f...</td>\n",
       "      <td>The throttling process is a steady flow of a f...</td>\n",
       "      <td>The throttling process is a steady adiabatic f...</td>\n",
       "    </tr>\n",
       "    <tr>\n",
       "      <th>197</th>\n",
       "      <td>197</td>\n",
       "      <td>What happens to excess base metal as a solutio...</td>\n",
       "      <td>The excess base metal will often solidify, bec...</td>\n",
       "      <td>The excess base metal will often crystallize-o...</td>\n",
       "      <td>The excess base metal will often dissolve, bec...</td>\n",
       "      <td>The excess base metal will often liquefy, beco...</td>\n",
       "      <td>The excess base metal will often evaporate, be...</td>\n",
       "    </tr>\n",
       "    <tr>\n",
       "      <th>198</th>\n",
       "      <td>198</td>\n",
       "      <td>What is the relationship between mass, force, ...</td>\n",
       "      <td>Mass is a property that determines the weight ...</td>\n",
       "      <td>Mass is an inertial property that determines a...</td>\n",
       "      <td>Mass is an inertial property that determines a...</td>\n",
       "      <td>Mass is an inertial property that determines a...</td>\n",
       "      <td>Mass is a property that determines the size of...</td>\n",
       "    </tr>\n",
       "    <tr>\n",
       "      <th>199</th>\n",
       "      <td>199</td>\n",
       "      <td>What did Arthur Eddington discover about two o...</td>\n",
       "      <td>Arthur Eddington showed that two of Einstein's...</td>\n",
       "      <td>Arthur Eddington showed that two of Einstein's...</td>\n",
       "      <td>Arthur Eddington showed that two of Einstein's...</td>\n",
       "      <td>Arthur Eddington showed that two of Einstein's...</td>\n",
       "      <td>Arthur Eddington showed that two of Einstein's...</td>\n",
       "    </tr>\n",
       "  </tbody>\n",
       "</table>\n",
       "<p>200 rows × 7 columns</p>\n",
       "</div>"
      ],
      "text/plain": [
       "      id                                             prompt  \\\n",
       "0      0  Which of the following statements accurately d...   \n",
       "1      1  Which of the following is an accurate definiti...   \n",
       "2      2  Which of the following statements accurately d...   \n",
       "3      3  What is the significance of regularization in ...   \n",
       "4      4  Which of the following statements accurately d...   \n",
       "..   ...                                                ...   \n",
       "195  195  What is the relation between the three moment ...   \n",
       "196  196  What is the throttling process, and why is it ...   \n",
       "197  197  What happens to excess base metal as a solutio...   \n",
       "198  198  What is the relationship between mass, force, ...   \n",
       "199  199  What did Arthur Eddington discover about two o...   \n",
       "\n",
       "                                                     A  \\\n",
       "0    MOND is a theory that reduces the observed mis...   \n",
       "1    Dynamic scaling refers to the evolution of sel...   \n",
       "2    The triskeles symbol was reconstructed as a fe...   \n",
       "3    Regularizing the mass-energy of an electron wi...   \n",
       "4    The angular spacing of features in the diffrac...   \n",
       "..                                                 ...   \n",
       "195  The three moment theorem expresses the relatio...   \n",
       "196  The throttling process is a steady flow of a f...   \n",
       "197  The excess base metal will often solidify, bec...   \n",
       "198  Mass is a property that determines the weight ...   \n",
       "199  Arthur Eddington showed that two of Einstein's...   \n",
       "\n",
       "                                                     B  \\\n",
       "0    MOND is a theory that increases the discrepanc...   \n",
       "1    Dynamic scaling refers to the non-evolution of...   \n",
       "2    The triskeles symbol is a representation of th...   \n",
       "3    Regularizing the mass-energy of an electron wi...   \n",
       "4    The angular spacing of features in the diffrac...   \n",
       "..                                                 ...   \n",
       "195  The three moment theorem is used to calculate ...   \n",
       "196  The throttling process is a steady adiabatic f...   \n",
       "197  The excess base metal will often crystallize-o...   \n",
       "198  Mass is an inertial property that determines a...   \n",
       "199  Arthur Eddington showed that two of Einstein's...   \n",
       "\n",
       "                                                     C  \\\n",
       "0    MOND is a theory that explains the missing bar...   \n",
       "1    Dynamic scaling refers to the evolution of sel...   \n",
       "2    The triskeles symbol is a representation of a ...   \n",
       "3    Regularizing the mass-energy of an electron wi...   \n",
       "4    The angular spacing of features in the diffrac...   \n",
       "..                                                 ...   \n",
       "195  The three moment theorem describes the relatio...   \n",
       "196  The throttling process is a steady adiabatic f...   \n",
       "197  The excess base metal will often dissolve, bec...   \n",
       "198  Mass is an inertial property that determines a...   \n",
       "199  Arthur Eddington showed that two of Einstein's...   \n",
       "\n",
       "                                                     D  \\\n",
       "0    MOND is a theory that reduces the discrepancy ...   \n",
       "1    Dynamic scaling refers to the non-evolution of...   \n",
       "2    The triskeles symbol represents three interloc...   \n",
       "3    Regularizing the mass-energy of an electron wi...   \n",
       "4    The angular spacing of features in the diffrac...   \n",
       "..                                                 ...   \n",
       "195  The three moment theorem is used to calculate ...   \n",
       "196  The throttling process is a steady flow of a f...   \n",
       "197  The excess base metal will often liquefy, beco...   \n",
       "198  Mass is an inertial property that determines a...   \n",
       "199  Arthur Eddington showed that two of Einstein's...   \n",
       "\n",
       "                                                     E  \n",
       "0    MOND is a theory that eliminates the observed ...  \n",
       "1    Dynamic scaling refers to the evolution of sel...  \n",
       "2    The triskeles symbol is a representation of th...  \n",
       "3    Regularizing the mass-energy of an electron wi...  \n",
       "4    The angular spacing of features in the diffrac...  \n",
       "..                                                 ...  \n",
       "195  The three moment theorem is used to derive the...  \n",
       "196  The throttling process is a steady adiabatic f...  \n",
       "197  The excess base metal will often evaporate, be...  \n",
       "198  Mass is a property that determines the size of...  \n",
       "199  Arthur Eddington showed that two of Einstein's...  \n",
       "\n",
       "[200 rows x 7 columns]"
      ]
     },
     "execution_count": 12,
     "metadata": {},
     "output_type": "execute_result"
    }
   ],
   "source": [
    "test_df = pd.read_csv(\"/kaggle/input/kaggle-llm-science-exam/test.csv\")\n",
    "test_df"
   ]
  },
  {
   "cell_type": "markdown",
   "id": "b0b306af",
   "metadata": {
    "papermill": {
     "duration": 0.010405,
     "end_time": "2023-07-25T11:29:10.130309",
     "exception": false,
     "start_time": "2023-07-25T11:29:10.119904",
     "status": "completed"
    },
    "tags": []
   },
   "source": [
    "Encoding: This is the step we are performing with our encode_test() function. Each prompt and option pair is tokenized."
   ]
  },
  {
   "cell_type": "code",
   "execution_count": 13,
   "id": "d8dc2541",
   "metadata": {
    "execution": {
     "iopub.execute_input": "2023-07-25T11:29:10.151447Z",
     "iopub.status.busy": "2023-07-25T11:29:10.151148Z",
     "iopub.status.idle": "2023-07-25T11:29:10.919412Z",
     "shell.execute_reply": "2023-07-25T11:29:10.918439Z"
    },
    "papermill": {
     "duration": 0.781547,
     "end_time": "2023-07-25T11:29:10.921678",
     "exception": false,
     "start_time": "2023-07-25T11:29:10.140131",
     "status": "completed"
    },
    "tags": []
   },
   "outputs": [
    {
     "data": {
      "text/plain": [
       "0      [[input_ids, token_type_ids, attention_mask], ...\n",
       "1      [[input_ids, token_type_ids, attention_mask], ...\n",
       "2      [[input_ids, token_type_ids, attention_mask], ...\n",
       "3      [[input_ids, token_type_ids, attention_mask], ...\n",
       "4      [[input_ids, token_type_ids, attention_mask], ...\n",
       "                             ...                        \n",
       "195    [[input_ids, token_type_ids, attention_mask], ...\n",
       "196    [[input_ids, token_type_ids, attention_mask], ...\n",
       "197    [[input_ids, token_type_ids, attention_mask], ...\n",
       "198    [[input_ids, token_type_ids, attention_mask], ...\n",
       "199    [[input_ids, token_type_ids, attention_mask], ...\n",
       "Length: 200, dtype: object"
      ]
     },
     "execution_count": 13,
     "metadata": {},
     "output_type": "execute_result"
    }
   ],
   "source": [
    "def encode_test(example):\n",
    "    # Format the context and the options.\n",
    "    prompt = str(example['prompt'])\n",
    "    options = [str(option) for option in example[['A', 'B', 'C', 'D', 'E']].values.tolist()]\n",
    "    examples = []\n",
    "\n",
    "    # Tokenize the question and the options.\n",
    "    for option in options:\n",
    "        text_pair = [prompt, option]\n",
    "        encoded = tokenizer(text_pair, truncation = True, padding = 'max_length', max_length = 512)\n",
    "        examples.append(encoded)\n",
    "\n",
    "    return examples\n",
    "\n",
    "encoded_test_df = test_df.apply(encode_test, axis = 1)\n",
    "encoded_test_df"
   ]
  },
  {
   "cell_type": "markdown",
   "id": "f8d17719",
   "metadata": {
    "papermill": {
     "duration": 0.009917,
     "end_time": "2023-07-25T11:29:10.942257",
     "exception": false,
     "start_time": "2023-07-25T11:29:10.932340",
     "status": "completed"
    },
    "tags": []
   },
   "source": [
    "Prediction: Next, we need to loop over the encoded inputs, feed them to the model, and store the model outputs. This could look something like the following:"
   ]
  },
  {
   "cell_type": "code",
   "execution_count": 14,
   "id": "2c74a037",
   "metadata": {
    "execution": {
     "iopub.execute_input": "2023-07-25T11:29:10.964404Z",
     "iopub.status.busy": "2023-07-25T11:29:10.964029Z",
     "iopub.status.idle": "2023-07-25T11:29:49.522218Z",
     "shell.execute_reply": "2023-07-25T11:29:49.520413Z"
    },
    "papermill": {
     "duration": 38.575568,
     "end_time": "2023-07-25T11:29:49.528362",
     "exception": false,
     "start_time": "2023-07-25T11:29:10.952794",
     "status": "completed"
    },
    "tags": []
   },
   "outputs": [],
   "source": [
    "import torch\n",
    "\n",
    "# Check if a GPU is available and if not, default to CPU.\n",
    "device = torch.device(\"cuda\" if torch.cuda.is_available() else \"cpu\")\n",
    "\n",
    "predictions = []\n",
    "for row in encoded_test_df:\n",
    "    input_ids = [torch.tensor(item['input_ids']).to(device) for item in row]\n",
    "    attention_mask = [torch.tensor(item['attention_mask']).to(device) for item in row]\n",
    "    outputs = model(input_ids = torch.stack(input_ids), \n",
    "                    attention_mask = torch.stack(attention_mask))\n",
    "    predictions.append(outputs.logits.detach().cpu().numpy())"
   ]
  },
  {
   "cell_type": "code",
   "execution_count": 15,
   "id": "cf74048c",
   "metadata": {
    "execution": {
     "iopub.execute_input": "2023-07-25T11:29:49.567499Z",
     "iopub.status.busy": "2023-07-25T11:29:49.566163Z",
     "iopub.status.idle": "2023-07-25T11:29:49.585939Z",
     "shell.execute_reply": "2023-07-25T11:29:49.584442Z"
    },
    "papermill": {
     "duration": 0.043055,
     "end_time": "2023-07-25T11:29:49.589708",
     "exception": false,
     "start_time": "2023-07-25T11:29:49.546653",
     "status": "completed"
    },
    "tags": []
   },
   "outputs": [
    {
     "data": {
      "text/plain": [
       "[array([[ 0.9427883 , -0.5190994 ],\n",
       "        [ 1.2292595 , -0.50528675],\n",
       "        [ 1.0276757 , -0.53127116],\n",
       "        [ 0.77999705, -0.6935708 ],\n",
       "        [ 1.2291492 , -0.6861043 ]], dtype=float32),\n",
       " array([[ 1.1747801 , -0.6384347 ],\n",
       "        [ 1.1291564 , -0.8110165 ],\n",
       "        [ 1.0827918 , -0.470621  ],\n",
       "        [ 0.8451413 , -0.2817072 ],\n",
       "        [ 0.94693714, -0.41094944]], dtype=float32),\n",
       " array([[ 1.0442374 , -0.21862778],\n",
       "        [ 1.0163196 , -0.08108331],\n",
       "        [ 0.9068479 , -0.6203481 ],\n",
       "        [ 0.9788435 , -0.45325783],\n",
       "        [ 0.8254443 , -0.25722325]], dtype=float32),\n",
       " array([[ 1.2174684 , -0.11008994],\n",
       "        [ 1.3864901 , -0.44930243],\n",
       "        [ 1.2092718 , -0.4431546 ],\n",
       "        [ 1.0827131 , -0.40266797],\n",
       "        [ 1.2053117 , -0.6098594 ]], dtype=float32),\n",
       " array([[ 0.7552482 , -0.45888093],\n",
       "        [ 1.1969833 , -0.49407896],\n",
       "        [ 1.0137856 , -0.36410585],\n",
       "        [ 0.8817175 , -0.32588744],\n",
       "        [ 0.8983771 , -0.23290181]], dtype=float32)]"
      ]
     },
     "execution_count": 15,
     "metadata": {},
     "output_type": "execute_result"
    }
   ],
   "source": [
    "predictions[0:5]"
   ]
  },
  {
   "cell_type": "markdown",
   "id": "0a9e12ae",
   "metadata": {
    "papermill": {
     "duration": 0.021541,
     "end_time": "2023-07-25T11:29:49.628343",
     "exception": false,
     "start_time": "2023-07-25T11:29:49.606802",
     "status": "completed"
    },
    "tags": []
   },
   "source": [
    "# Submission"
   ]
  },
  {
   "cell_type": "code",
   "execution_count": 16,
   "id": "e442701a",
   "metadata": {
    "execution": {
     "iopub.execute_input": "2023-07-25T11:29:49.650992Z",
     "iopub.status.busy": "2023-07-25T11:29:49.650324Z",
     "iopub.status.idle": "2023-07-25T11:29:49.658278Z",
     "shell.execute_reply": "2023-07-25T11:29:49.657318Z"
    },
    "papermill": {
     "duration": 0.021489,
     "end_time": "2023-07-25T11:29:49.660371",
     "exception": false,
     "start_time": "2023-07-25T11:29:49.638882",
     "status": "completed"
    },
    "tags": []
   },
   "outputs": [],
   "source": [
    "import numpy as np\n",
    "\n",
    "# Convert the list of predictions to a numpy array.\n",
    "predictions = np.array(predictions)\n",
    "\n",
    "# Get the indices of the top 3 predictions for each question.\n",
    "top_three_indices = (-predictions).argsort(axis = 1)[:, :3].tolist()"
   ]
  },
  {
   "cell_type": "code",
   "execution_count": 17,
   "id": "9aeca79f",
   "metadata": {
    "execution": {
     "iopub.execute_input": "2023-07-25T11:29:49.682941Z",
     "iopub.status.busy": "2023-07-25T11:29:49.682158Z",
     "iopub.status.idle": "2023-07-25T11:29:49.689650Z",
     "shell.execute_reply": "2023-07-25T11:29:49.688442Z"
    },
    "papermill": {
     "duration": 0.020574,
     "end_time": "2023-07-25T11:29:49.691654",
     "exception": false,
     "start_time": "2023-07-25T11:29:49.671080",
     "status": "completed"
    },
    "tags": []
   },
   "outputs": [
    {
     "name": "stdout",
     "output_type": "stream",
     "text": [
      "[[1, 0, 2], [3, 4, 2], [1, 0, 4], [0, 3, 2], [4, 3, 2], [0, 1, 2], [4, 2, 0], [2, 3, 1], [2, 4, 1], [4, 0, 2], [1, 0, 4], [1, 0, 4], [2, 1, 3], [3, 1, 0], [2, 3, 1], [1, 4, 0], [3, 4, 1], [3, 2, 4], [1, 2, 0], [4, 2, 1], [1, 3, 4], [2, 0, 1], [4, 3, 2], [2, 4, 3], [0, 1, 3], [2, 4, 0], [0, 2, 3], [1, 3, 4], [0, 4, 1], [4, 0, 3], [0, 3, 1], [4, 1, 3], [4, 1, 2], [1, 3, 4], [1, 2, 0], [1, 3, 2], [2, 4, 3], [2, 0, 3], [4, 3, 1], [0, 2, 1], [0, 3, 4], [0, 2, 4], [0, 4, 1], [3, 2, 0], [1, 3, 4], [0, 3, 1], [3, 2, 0], [4, 1, 2], [0, 3, 4], [3, 1, 0], [1, 4, 2], [4, 1, 3], [3, 2, 4], [2, 0, 4], [3, 1, 0], [2, 4, 1], [0, 2, 3], [4, 1, 2], [4, 3, 2], [1, 3, 4], [3, 1, 4], [1, 0, 3], [1, 0, 3], [4, 2, 3], [0, 4, 1], [0, 4, 1], [3, 0, 2], [0, 1, 4], [3, 2, 4], [3, 4, 1], [0, 3, 2], [2, 0, 1], [2, 3, 4], [0, 1, 3], [1, 3, 0], [1, 4, 3], [3, 1, 4], [3, 0, 1], [2, 3, 1], [0, 2, 4], [1, 4, 2], [0, 4, 1], [0, 2, 1], [2, 4, 1], [4, 3, 1], [3, 2, 4], [3, 2, 0], [2, 4, 0], [2, 1, 0], [0, 3, 2], [3, 4, 1], [0, 1, 4], [1, 4, 3], [1, 0, 4], [4, 0, 3], [3, 2, 4], [2, 3, 1], [0, 2, 4], [2, 4, 0], [0, 4, 2], [3, 1, 0], [1, 3, 2], [0, 1, 4], [4, 2, 1], [0, 2, 4], [4, 1, 3], [2, 3, 1], [4, 0, 3], [2, 0, 4], [4, 0, 2], [1, 3, 0], [1, 2, 3], [1, 4, 3], [1, 3, 4], [3, 0, 2], [3, 2, 1], [1, 0, 2], [1, 4, 0], [4, 2, 0], [0, 1, 3], [1, 4, 3], [0, 1, 2], [0, 2, 1], [4, 2, 1], [3, 1, 4], [1, 2, 3], [4, 3, 0], [3, 2, 0], [1, 4, 3], [1, 2, 4], [3, 1, 4], [0, 4, 2], [0, 4, 1], [1, 0, 3], [2, 0, 1], [0, 2, 3], [1, 3, 4], [0, 1, 2], [1, 3, 4], [3, 1, 4], [2, 3, 1], [4, 2, 3], [2, 4, 1], [0, 2, 4], [2, 4, 3], [1, 2, 4], [0, 1, 4], [3, 0, 2], [0, 1, 2], [3, 0, 2], [2, 3, 0], [0, 3, 1], [3, 2, 1], [4, 2, 3], [3, 0, 4], [3, 4, 2], [1, 0, 2], [3, 0, 2], [2, 1, 0], [4, 0, 2], [3, 2, 0], [0, 4, 2], [3, 2, 1], [4, 2, 0], [2, 0, 3], [2, 0, 1], [3, 1, 2], [3, 4, 0], [0, 1, 4], [2, 0, 4], [4, 0, 2], [4, 1, 0], [4, 3, 0], [2, 0, 4], [2, 3, 1], [2, 0, 4], [2, 0, 3], [2, 4, 3], [3, 2, 1], [1, 2, 3], [2, 1, 4], [0, 4, 1], [0, 1, 4], [3, 1, 0], [3, 0, 2], [4, 2, 0], [4, 3, 1], [0, 1, 4], [2, 1, 3], [4, 2, 3], [1, 3, 0], [1, 3, 0], [1, 0, 2], [2, 3, 4], [0, 2, 4], [0, 2, 4], [0, 3, 4], [2, 4, 0], [1, 4, 2], [4, 1, 2]]\n"
     ]
    }
   ],
   "source": [
    "# Initialize an empty list to store the extracted values.\n",
    "top_values = []\n",
    "\n",
    "# Loop over all elements in the 'top_three_indices' list.\n",
    "for i in range(len(top_three_indices)):\n",
    "    # Use a list comprehension to extract the second element (index 1) from each sublist.\n",
    "    # This will create a new list 'values' containing these three elements.\n",
    "    values = [top_three_indices[i][j][1] for j in range(3)]\n",
    "    # Append this new list to our 'top_values' list.\n",
    "    top_values.append(values)\n",
    "\n",
    "# Print the resulting list of lists.\n",
    "print(top_values)"
   ]
  },
  {
   "cell_type": "code",
   "execution_count": 18,
   "id": "f87c2999",
   "metadata": {
    "execution": {
     "iopub.execute_input": "2023-07-25T11:29:49.714077Z",
     "iopub.status.busy": "2023-07-25T11:29:49.713271Z",
     "iopub.status.idle": "2023-07-25T11:29:49.720744Z",
     "shell.execute_reply": "2023-07-25T11:29:49.719869Z"
    },
    "papermill": {
     "duration": 0.020794,
     "end_time": "2023-07-25T11:29:49.722744",
     "exception": false,
     "start_time": "2023-07-25T11:29:49.701950",
     "status": "completed"
    },
    "tags": []
   },
   "outputs": [
    {
     "data": {
      "text/plain": [
       "['B A C', 'D E C', 'B A E', 'A D C', 'E D C']"
      ]
     },
     "execution_count": 18,
     "metadata": {},
     "output_type": "execute_result"
    }
   ],
   "source": [
    "# Define a mapping from indices to labels.\n",
    "index_to_label = {0: 'A', 1: 'B', 2: 'C', 3: 'D', 4: 'E'}\n",
    "\n",
    "# Convert the top three indices to the required format (labels separated by spaces).\n",
    "top_three_labels = [' '.join([index_to_label[idx] for idx in sublist]) for sublist in top_values]\n",
    "top_three_labels[0:5]"
   ]
  },
  {
   "cell_type": "code",
   "execution_count": 19,
   "id": "dfbe4477",
   "metadata": {
    "execution": {
     "iopub.execute_input": "2023-07-25T11:29:49.745824Z",
     "iopub.status.busy": "2023-07-25T11:29:49.745002Z",
     "iopub.status.idle": "2023-07-25T11:29:49.754512Z",
     "shell.execute_reply": "2023-07-25T11:29:49.753688Z"
    },
    "papermill": {
     "duration": 0.023395,
     "end_time": "2023-07-25T11:29:49.756638",
     "exception": false,
     "start_time": "2023-07-25T11:29:49.733243",
     "status": "completed"
    },
    "tags": []
   },
   "outputs": [],
   "source": [
    "# Create a new DataFrame for the submission.\n",
    "submission_df = pd.DataFrame({\n",
    "    'id': test_df['id'],\n",
    "    'prediction': top_three_labels\n",
    "})\n",
    "\n",
    "# Save the submission DataFrame to a .csv file.\n",
    "submission_df.to_csv('submission.csv', index = False)"
   ]
  },
  {
   "cell_type": "code",
   "execution_count": 20,
   "id": "033e1767",
   "metadata": {
    "execution": {
     "iopub.execute_input": "2023-07-25T11:29:49.779719Z",
     "iopub.status.busy": "2023-07-25T11:29:49.778883Z",
     "iopub.status.idle": "2023-07-25T11:29:49.789865Z",
     "shell.execute_reply": "2023-07-25T11:29:49.788899Z"
    },
    "papermill": {
     "duration": 0.024962,
     "end_time": "2023-07-25T11:29:49.792204",
     "exception": false,
     "start_time": "2023-07-25T11:29:49.767242",
     "status": "completed"
    },
    "tags": []
   },
   "outputs": [
    {
     "data": {
      "text/html": [
       "<div>\n",
       "<style scoped>\n",
       "    .dataframe tbody tr th:only-of-type {\n",
       "        vertical-align: middle;\n",
       "    }\n",
       "\n",
       "    .dataframe tbody tr th {\n",
       "        vertical-align: top;\n",
       "    }\n",
       "\n",
       "    .dataframe thead th {\n",
       "        text-align: right;\n",
       "    }\n",
       "</style>\n",
       "<table border=\"1\" class=\"dataframe\">\n",
       "  <thead>\n",
       "    <tr style=\"text-align: right;\">\n",
       "      <th></th>\n",
       "      <th>id</th>\n",
       "      <th>prediction</th>\n",
       "    </tr>\n",
       "  </thead>\n",
       "  <tbody>\n",
       "    <tr>\n",
       "      <th>0</th>\n",
       "      <td>0</td>\n",
       "      <td>B A C</td>\n",
       "    </tr>\n",
       "    <tr>\n",
       "      <th>1</th>\n",
       "      <td>1</td>\n",
       "      <td>D E C</td>\n",
       "    </tr>\n",
       "    <tr>\n",
       "      <th>2</th>\n",
       "      <td>2</td>\n",
       "      <td>B A E</td>\n",
       "    </tr>\n",
       "    <tr>\n",
       "      <th>3</th>\n",
       "      <td>3</td>\n",
       "      <td>A D C</td>\n",
       "    </tr>\n",
       "    <tr>\n",
       "      <th>4</th>\n",
       "      <td>4</td>\n",
       "      <td>E D C</td>\n",
       "    </tr>\n",
       "    <tr>\n",
       "      <th>...</th>\n",
       "      <td>...</td>\n",
       "      <td>...</td>\n",
       "    </tr>\n",
       "    <tr>\n",
       "      <th>195</th>\n",
       "      <td>195</td>\n",
       "      <td>A C E</td>\n",
       "    </tr>\n",
       "    <tr>\n",
       "      <th>196</th>\n",
       "      <td>196</td>\n",
       "      <td>A D E</td>\n",
       "    </tr>\n",
       "    <tr>\n",
       "      <th>197</th>\n",
       "      <td>197</td>\n",
       "      <td>C E A</td>\n",
       "    </tr>\n",
       "    <tr>\n",
       "      <th>198</th>\n",
       "      <td>198</td>\n",
       "      <td>B E C</td>\n",
       "    </tr>\n",
       "    <tr>\n",
       "      <th>199</th>\n",
       "      <td>199</td>\n",
       "      <td>E B C</td>\n",
       "    </tr>\n",
       "  </tbody>\n",
       "</table>\n",
       "<p>200 rows × 2 columns</p>\n",
       "</div>"
      ],
      "text/plain": [
       "      id prediction\n",
       "0      0      B A C\n",
       "1      1      D E C\n",
       "2      2      B A E\n",
       "3      3      A D C\n",
       "4      4      E D C\n",
       "..   ...        ...\n",
       "195  195      A C E\n",
       "196  196      A D E\n",
       "197  197      C E A\n",
       "198  198      B E C\n",
       "199  199      E B C\n",
       "\n",
       "[200 rows x 2 columns]"
      ]
     },
     "execution_count": 20,
     "metadata": {},
     "output_type": "execute_result"
    }
   ],
   "source": [
    "submission_df"
   ]
  },
  {
   "cell_type": "markdown",
   "id": "159d4a7b",
   "metadata": {
    "papermill": {
     "duration": 0.010605,
     "end_time": "2023-07-25T11:29:49.814528",
     "exception": false,
     "start_time": "2023-07-25T11:29:49.803923",
     "status": "completed"
    },
    "tags": []
   },
   "source": [
    "# Conclusion\n",
    "\n",
    "**You will understand the basic concept as to the use of LLMs with the data.**"
   ]
  },
  {
   "cell_type": "markdown",
   "id": "d397a0c2",
   "metadata": {
    "papermill": {
     "duration": 0.010463,
     "end_time": "2023-07-25T11:29:49.835666",
     "exception": false,
     "start_time": "2023-07-25T11:29:49.825203",
     "status": "completed"
    },
    "tags": []
   },
   "source": [
    "I am a medical doctor working on **artificial intelligence (AI) for medicine**. At present AI is also widely used in the medical field. Particularly, AI performs in the healthcare sector following tasks: **image classification, object detection, semantic segmentation, GANs, text classification, etc**. **If you are interested in AI for medicine, please see my other notebooks.**"
   ]
  }
 ],
 "metadata": {
  "kernelspec": {
   "display_name": "Python 3",
   "language": "python",
   "name": "python3"
  },
  "language_info": {
   "codemirror_mode": {
    "name": "ipython",
    "version": 3
   },
   "file_extension": ".py",
   "mimetype": "text/x-python",
   "name": "python",
   "nbconvert_exporter": "python",
   "pygments_lexer": "ipython3",
   "version": "3.10.12"
  },
  "papermill": {
   "default_parameters": {},
   "duration": 401.012942,
   "end_time": "2023-07-25T11:29:53.385944",
   "environment_variables": {},
   "exception": null,
   "input_path": "__notebook__.ipynb",
   "output_path": "__notebook__.ipynb",
   "parameters": {},
   "start_time": "2023-07-25T11:23:12.373002",
   "version": "2.4.0"
  }
 },
 "nbformat": 4,
 "nbformat_minor": 5
}
