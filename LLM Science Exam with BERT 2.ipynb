{
 "cells": [
  {
   "cell_type": "markdown",
   "id": "6c4bbe4d",
   "metadata": {
    "papermill": {
     "duration": 0.008891,
     "end_time": "2023-07-29T07:27:20.860803",
     "exception": false,
     "start_time": "2023-07-29T07:27:20.851912",
     "status": "completed"
    },
    "tags": []
   },
   "source": [
    "# Introduction\n",
    "\n",
    "This competition involves **building a machine learning model to answer multiple-choice questions that were created by a large language model (LLM)**. The dataset consists of questions with **five possible answers (labeled A through E)**.\n",
    "\n",
    "The task is to **predict the top three most probable answers for each question in the test set**. For each question, there is one answer that is considered the most correct, according to the generating LLM.\n",
    "\n",
    "The specific files are:\n",
    "\n",
    "    train.csv: This file contains **200 example questions along with the correct answers**. This data should be used to train your machine learning model.\n",
    "\n",
    "    test.csv: This file contains the questions for which you must predict the answers. Note that the provided test.csv file is just a placeholder; the actual test data will be provided when your submission is scored. The true test data will have a similar format, but will consist of ~4,000 different questions.\n",
    "\n",
    "    sample_submission.csv: This file shows the correct format for submitting your predictions.\n",
    "\n",
    "For each question in test.csv, your model should predict the labels of the top three most probable answers, separated by spaces. These predictions should be stored in a new column called 'prediction'. The order of the labels matters, with the first label being the most likely answer according to your model, the second label being the second most likely, and so on.\n",
    "\n",
    "Finally, **your predictions should be written to a CSV file for submission**. The submission file should have two columns: 'id' and 'prediction'. The 'id' column should match the 'id' column in test.csv, and the 'prediction' column should contain your model's predictions."
   ]
  },
  {
   "cell_type": "markdown",
   "id": "947ef348",
   "metadata": {
    "papermill": {
     "duration": 0.007841,
     "end_time": "2023-07-29T07:27:20.877075",
     "exception": false,
     "start_time": "2023-07-29T07:27:20.869234",
     "status": "completed"
    },
    "tags": []
   },
   "source": [
    "# Load the Train Dataset\n",
    "\n",
    "First, we need to load the dataset using a library like Pandas. In this case, we have train_df which is a DataFrame that contains our training data."
   ]
  },
  {
   "cell_type": "code",
   "execution_count": 1,
   "id": "7bd10e6f",
   "metadata": {
    "execution": {
     "iopub.execute_input": "2023-07-29T07:27:20.896139Z",
     "iopub.status.busy": "2023-07-29T07:27:20.895339Z",
     "iopub.status.idle": "2023-07-29T07:27:20.940348Z",
     "shell.execute_reply": "2023-07-29T07:27:20.939478Z"
    },
    "papermill": {
     "duration": 0.05752,
     "end_time": "2023-07-29T07:27:20.943022",
     "exception": false,
     "start_time": "2023-07-29T07:27:20.885502",
     "status": "completed"
    },
    "tags": []
   },
   "outputs": [
    {
     "data": {
      "text/html": [
       "<div>\n",
       "<style scoped>\n",
       "    .dataframe tbody tr th:only-of-type {\n",
       "        vertical-align: middle;\n",
       "    }\n",
       "\n",
       "    .dataframe tbody tr th {\n",
       "        vertical-align: top;\n",
       "    }\n",
       "\n",
       "    .dataframe thead th {\n",
       "        text-align: right;\n",
       "    }\n",
       "</style>\n",
       "<table border=\"1\" class=\"dataframe\">\n",
       "  <thead>\n",
       "    <tr style=\"text-align: right;\">\n",
       "      <th></th>\n",
       "      <th>id</th>\n",
       "      <th>prompt</th>\n",
       "      <th>A</th>\n",
       "      <th>B</th>\n",
       "      <th>C</th>\n",
       "      <th>D</th>\n",
       "      <th>E</th>\n",
       "      <th>answer</th>\n",
       "    </tr>\n",
       "  </thead>\n",
       "  <tbody>\n",
       "    <tr>\n",
       "      <th>0</th>\n",
       "      <td>0</td>\n",
       "      <td>Which of the following statements accurately d...</td>\n",
       "      <td>MOND is a theory that reduces the observed mis...</td>\n",
       "      <td>MOND is a theory that increases the discrepanc...</td>\n",
       "      <td>MOND is a theory that explains the missing bar...</td>\n",
       "      <td>MOND is a theory that reduces the discrepancy ...</td>\n",
       "      <td>MOND is a theory that eliminates the observed ...</td>\n",
       "      <td>D</td>\n",
       "    </tr>\n",
       "    <tr>\n",
       "      <th>1</th>\n",
       "      <td>1</td>\n",
       "      <td>Which of the following is an accurate definiti...</td>\n",
       "      <td>Dynamic scaling refers to the evolution of sel...</td>\n",
       "      <td>Dynamic scaling refers to the non-evolution of...</td>\n",
       "      <td>Dynamic scaling refers to the evolution of sel...</td>\n",
       "      <td>Dynamic scaling refers to the non-evolution of...</td>\n",
       "      <td>Dynamic scaling refers to the evolution of sel...</td>\n",
       "      <td>A</td>\n",
       "    </tr>\n",
       "    <tr>\n",
       "      <th>2</th>\n",
       "      <td>2</td>\n",
       "      <td>Which of the following statements accurately d...</td>\n",
       "      <td>The triskeles symbol was reconstructed as a fe...</td>\n",
       "      <td>The triskeles symbol is a representation of th...</td>\n",
       "      <td>The triskeles symbol is a representation of a ...</td>\n",
       "      <td>The triskeles symbol represents three interloc...</td>\n",
       "      <td>The triskeles symbol is a representation of th...</td>\n",
       "      <td>A</td>\n",
       "    </tr>\n",
       "    <tr>\n",
       "      <th>3</th>\n",
       "      <td>3</td>\n",
       "      <td>What is the significance of regularization in ...</td>\n",
       "      <td>Regularizing the mass-energy of an electron wi...</td>\n",
       "      <td>Regularizing the mass-energy of an electron wi...</td>\n",
       "      <td>Regularizing the mass-energy of an electron wi...</td>\n",
       "      <td>Regularizing the mass-energy of an electron wi...</td>\n",
       "      <td>Regularizing the mass-energy of an electron wi...</td>\n",
       "      <td>C</td>\n",
       "    </tr>\n",
       "    <tr>\n",
       "      <th>4</th>\n",
       "      <td>4</td>\n",
       "      <td>Which of the following statements accurately d...</td>\n",
       "      <td>The angular spacing of features in the diffrac...</td>\n",
       "      <td>The angular spacing of features in the diffrac...</td>\n",
       "      <td>The angular spacing of features in the diffrac...</td>\n",
       "      <td>The angular spacing of features in the diffrac...</td>\n",
       "      <td>The angular spacing of features in the diffrac...</td>\n",
       "      <td>D</td>\n",
       "    </tr>\n",
       "    <tr>\n",
       "      <th>...</th>\n",
       "      <td>...</td>\n",
       "      <td>...</td>\n",
       "      <td>...</td>\n",
       "      <td>...</td>\n",
       "      <td>...</td>\n",
       "      <td>...</td>\n",
       "      <td>...</td>\n",
       "      <td>...</td>\n",
       "    </tr>\n",
       "    <tr>\n",
       "      <th>195</th>\n",
       "      <td>195</td>\n",
       "      <td>What is the relation between the three moment ...</td>\n",
       "      <td>The three moment theorem expresses the relatio...</td>\n",
       "      <td>The three moment theorem is used to calculate ...</td>\n",
       "      <td>The three moment theorem describes the relatio...</td>\n",
       "      <td>The three moment theorem is used to calculate ...</td>\n",
       "      <td>The three moment theorem is used to derive the...</td>\n",
       "      <td>C</td>\n",
       "    </tr>\n",
       "    <tr>\n",
       "      <th>196</th>\n",
       "      <td>196</td>\n",
       "      <td>What is the throttling process, and why is it ...</td>\n",
       "      <td>The throttling process is a steady flow of a f...</td>\n",
       "      <td>The throttling process is a steady adiabatic f...</td>\n",
       "      <td>The throttling process is a steady adiabatic f...</td>\n",
       "      <td>The throttling process is a steady flow of a f...</td>\n",
       "      <td>The throttling process is a steady adiabatic f...</td>\n",
       "      <td>B</td>\n",
       "    </tr>\n",
       "    <tr>\n",
       "      <th>197</th>\n",
       "      <td>197</td>\n",
       "      <td>What happens to excess base metal as a solutio...</td>\n",
       "      <td>The excess base metal will often solidify, bec...</td>\n",
       "      <td>The excess base metal will often crystallize-o...</td>\n",
       "      <td>The excess base metal will often dissolve, bec...</td>\n",
       "      <td>The excess base metal will often liquefy, beco...</td>\n",
       "      <td>The excess base metal will often evaporate, be...</td>\n",
       "      <td>B</td>\n",
       "    </tr>\n",
       "    <tr>\n",
       "      <th>198</th>\n",
       "      <td>198</td>\n",
       "      <td>What is the relationship between mass, force, ...</td>\n",
       "      <td>Mass is a property that determines the weight ...</td>\n",
       "      <td>Mass is an inertial property that determines a...</td>\n",
       "      <td>Mass is an inertial property that determines a...</td>\n",
       "      <td>Mass is an inertial property that determines a...</td>\n",
       "      <td>Mass is a property that determines the size of...</td>\n",
       "      <td>D</td>\n",
       "    </tr>\n",
       "    <tr>\n",
       "      <th>199</th>\n",
       "      <td>199</td>\n",
       "      <td>What did Arthur Eddington discover about two o...</td>\n",
       "      <td>Arthur Eddington showed that two of Einstein's...</td>\n",
       "      <td>Arthur Eddington showed that two of Einstein's...</td>\n",
       "      <td>Arthur Eddington showed that two of Einstein's...</td>\n",
       "      <td>Arthur Eddington showed that two of Einstein's...</td>\n",
       "      <td>Arthur Eddington showed that two of Einstein's...</td>\n",
       "      <td>C</td>\n",
       "    </tr>\n",
       "  </tbody>\n",
       "</table>\n",
       "<p>200 rows × 8 columns</p>\n",
       "</div>"
      ],
      "text/plain": [
       "      id                                             prompt  \\\n",
       "0      0  Which of the following statements accurately d...   \n",
       "1      1  Which of the following is an accurate definiti...   \n",
       "2      2  Which of the following statements accurately d...   \n",
       "3      3  What is the significance of regularization in ...   \n",
       "4      4  Which of the following statements accurately d...   \n",
       "..   ...                                                ...   \n",
       "195  195  What is the relation between the three moment ...   \n",
       "196  196  What is the throttling process, and why is it ...   \n",
       "197  197  What happens to excess base metal as a solutio...   \n",
       "198  198  What is the relationship between mass, force, ...   \n",
       "199  199  What did Arthur Eddington discover about two o...   \n",
       "\n",
       "                                                     A  \\\n",
       "0    MOND is a theory that reduces the observed mis...   \n",
       "1    Dynamic scaling refers to the evolution of sel...   \n",
       "2    The triskeles symbol was reconstructed as a fe...   \n",
       "3    Regularizing the mass-energy of an electron wi...   \n",
       "4    The angular spacing of features in the diffrac...   \n",
       "..                                                 ...   \n",
       "195  The three moment theorem expresses the relatio...   \n",
       "196  The throttling process is a steady flow of a f...   \n",
       "197  The excess base metal will often solidify, bec...   \n",
       "198  Mass is a property that determines the weight ...   \n",
       "199  Arthur Eddington showed that two of Einstein's...   \n",
       "\n",
       "                                                     B  \\\n",
       "0    MOND is a theory that increases the discrepanc...   \n",
       "1    Dynamic scaling refers to the non-evolution of...   \n",
       "2    The triskeles symbol is a representation of th...   \n",
       "3    Regularizing the mass-energy of an electron wi...   \n",
       "4    The angular spacing of features in the diffrac...   \n",
       "..                                                 ...   \n",
       "195  The three moment theorem is used to calculate ...   \n",
       "196  The throttling process is a steady adiabatic f...   \n",
       "197  The excess base metal will often crystallize-o...   \n",
       "198  Mass is an inertial property that determines a...   \n",
       "199  Arthur Eddington showed that two of Einstein's...   \n",
       "\n",
       "                                                     C  \\\n",
       "0    MOND is a theory that explains the missing bar...   \n",
       "1    Dynamic scaling refers to the evolution of sel...   \n",
       "2    The triskeles symbol is a representation of a ...   \n",
       "3    Regularizing the mass-energy of an electron wi...   \n",
       "4    The angular spacing of features in the diffrac...   \n",
       "..                                                 ...   \n",
       "195  The three moment theorem describes the relatio...   \n",
       "196  The throttling process is a steady adiabatic f...   \n",
       "197  The excess base metal will often dissolve, bec...   \n",
       "198  Mass is an inertial property that determines a...   \n",
       "199  Arthur Eddington showed that two of Einstein's...   \n",
       "\n",
       "                                                     D  \\\n",
       "0    MOND is a theory that reduces the discrepancy ...   \n",
       "1    Dynamic scaling refers to the non-evolution of...   \n",
       "2    The triskeles symbol represents three interloc...   \n",
       "3    Regularizing the mass-energy of an electron wi...   \n",
       "4    The angular spacing of features in the diffrac...   \n",
       "..                                                 ...   \n",
       "195  The three moment theorem is used to calculate ...   \n",
       "196  The throttling process is a steady flow of a f...   \n",
       "197  The excess base metal will often liquefy, beco...   \n",
       "198  Mass is an inertial property that determines a...   \n",
       "199  Arthur Eddington showed that two of Einstein's...   \n",
       "\n",
       "                                                     E answer  \n",
       "0    MOND is a theory that eliminates the observed ...      D  \n",
       "1    Dynamic scaling refers to the evolution of sel...      A  \n",
       "2    The triskeles symbol is a representation of th...      A  \n",
       "3    Regularizing the mass-energy of an electron wi...      C  \n",
       "4    The angular spacing of features in the diffrac...      D  \n",
       "..                                                 ...    ...  \n",
       "195  The three moment theorem is used to derive the...      C  \n",
       "196  The throttling process is a steady adiabatic f...      B  \n",
       "197  The excess base metal will often evaporate, be...      B  \n",
       "198  Mass is a property that determines the size of...      D  \n",
       "199  Arthur Eddington showed that two of Einstein's...      C  \n",
       "\n",
       "[200 rows x 8 columns]"
      ]
     },
     "execution_count": 1,
     "metadata": {},
     "output_type": "execute_result"
    }
   ],
   "source": [
    "import pandas as pd\n",
    "train_df = pd.read_csv('/kaggle/input/kaggle-llm-science-exam/train.csv')\n",
    "train_df"
   ]
  },
  {
   "cell_type": "markdown",
   "id": "4e7f5768",
   "metadata": {
    "papermill": {
     "duration": 0.008606,
     "end_time": "2023-07-29T07:27:20.960515",
     "exception": false,
     "start_time": "2023-07-29T07:27:20.951909",
     "status": "completed"
    },
    "tags": []
   },
   "source": [
    "# Tokenize and Format the Dataset\n",
    "\n",
    "The LLM understands only numbers, not raw text. Therefore, we need to **tokenize our dataset (convert the text into numbers)** and **format it in the way the LLM expects**. In the case of a multiple-choice question answering task, each sample in our dataset will consist of **a context (the question) and five possible responses (the options)**. We would use **a transformer's tokenizer** for this purpose. For example, **assuming the LLM we are using is based on BERT and tokenizer is a BERT tokenizer**.\n",
    "\n",
    "**The LLM needs to know the correct answer for each question** in the dataset to learn from it. In our dataset, the correct answer is given in the 'answer' column as a letter (A, B, C, D, or E). We need to **convert these letters into indices (0, 1, 2, 3, or 4)** because the LLM works with numbers."
   ]
  },
  {
   "cell_type": "code",
   "execution_count": 2,
   "id": "9729fd62",
   "metadata": {
    "execution": {
     "iopub.execute_input": "2023-07-29T07:27:20.979852Z",
     "iopub.status.busy": "2023-07-29T07:27:20.978861Z",
     "iopub.status.idle": "2023-07-29T07:27:24.924500Z",
     "shell.execute_reply": "2023-07-29T07:27:24.923506Z"
    },
    "papermill": {
     "duration": 3.957652,
     "end_time": "2023-07-29T07:27:24.926947",
     "exception": false,
     "start_time": "2023-07-29T07:27:20.969295",
     "status": "completed"
    },
    "tags": []
   },
   "outputs": [],
   "source": [
    "from transformers import AutoTokenizer\n",
    "from datasets import Dataset\n",
    "\n",
    "MODEL_DIR = \"/kaggle/input/huggingface-bert/\"\n",
    "tokenizer = AutoTokenizer.from_pretrained(MODEL_DIR + \"bert-large-uncased\")\n",
    "\n",
    "def encode(row):\n",
    "    # Format the context and the options.\n",
    "    prompt = str(row['prompt'])\n",
    "    options = [str(option) for option in row[['A', 'B', 'C', 'D', 'E']].values.tolist()]\n",
    "    \n",
    "    answer_mapping = {'A': 0, 'B': 1, 'C': 2, 'D': 3, 'E': 4}\n",
    "    correct_answer_id = answer_mapping[row['answer']]\n",
    "\n",
    "    encoded_rows = []\n",
    "    # Tokenize the question and the options, and include the correct answer label.\n",
    "    for idx, option in enumerate(options):\n",
    "        text_pair = [prompt, option]\n",
    "        encoded = tokenizer(text_pair, truncation = True, padding = 'max_length', max_length = 512)\n",
    "        \n",
    "        # We set the label to 1 if this is the correct answer, otherwise 0.\n",
    "        encoded['labels'] = 1 if idx == correct_answer_id else 0\n",
    "        encoded_rows.append(encoded)\n",
    "\n",
    "    return encoded_rows\n",
    "\n",
    "encoded_train = []\n",
    "for _, row in train_df.iterrows():\n",
    "    encoded_train.extend(encode(row))\n",
    "\n",
    "# Now each item in encoded_train is a dictionary representing a single example.\n",
    "# We can convert it into a Dataset.\n",
    "encoded_train_dataset = Dataset.from_dict({key: [dic[key] for dic in encoded_train] for key in encoded_train[0]})"
   ]
  },
  {
   "cell_type": "code",
   "execution_count": 3,
   "id": "6f8086a7",
   "metadata": {
    "execution": {
     "iopub.execute_input": "2023-07-29T07:27:24.946318Z",
     "iopub.status.busy": "2023-07-29T07:27:24.945798Z",
     "iopub.status.idle": "2023-07-29T07:27:24.951948Z",
     "shell.execute_reply": "2023-07-29T07:27:24.951103Z"
    },
    "papermill": {
     "duration": 0.017883,
     "end_time": "2023-07-29T07:27:24.953837",
     "exception": false,
     "start_time": "2023-07-29T07:27:24.935954",
     "status": "completed"
    },
    "tags": []
   },
   "outputs": [
    {
     "data": {
      "text/plain": [
       "Dataset({\n",
       "    features: ['input_ids', 'token_type_ids', 'attention_mask', 'labels'],\n",
       "    num_rows: 1000\n",
       "})"
      ]
     },
     "execution_count": 3,
     "metadata": {},
     "output_type": "execute_result"
    }
   ],
   "source": [
    "encoded_train_dataset"
   ]
  },
  {
   "cell_type": "markdown",
   "id": "ff1d9fa2",
   "metadata": {
    "papermill": {
     "duration": 0.009665,
     "end_time": "2023-07-29T07:27:24.972655",
     "exception": false,
     "start_time": "2023-07-29T07:27:24.962990",
     "status": "completed"
    },
    "tags": []
   },
   "source": [
    "The encoded_train_dataset is an instance of the Dataset class from the Hugging Face datasets library. This dataset contains preprocessed and tokenized training data that we can use to train a machine learning model.\n",
    "\n",
    "The features field tells what kind of information each example in the dataset includes. Here, it includes:\n",
    "\n",
    "    input_ids: These are the tokenized inputs to the model. Each token in the input has been mapped to an ID using the vocabulary of the tokenizer.\n",
    "    \n",
    "    token_type_ids: These are used by some models (like BERT) to differentiate between different sequences in the input. For example, it can tell the model where the question ends and where the answer options begin.\n",
    "    \n",
    "    attention_mask: This is used to tell the model which parts of the input are actual content and which parts are padding (i.e., meaningless tokens added to make all inputs the same length).\n",
    "    \n",
    "    labels: These are the correct answers for each question. This is what the model is trying to predict.\n",
    "\n",
    "The num_rows field tells you that there are 1,000 examples in this dataset.\n",
    "\n",
    "Please note that the actual content of the dataset is not shown in this overview. we can access the data using indexing, for example \"encoded_train_dataset[0]\" to get the first example."
   ]
  },
  {
   "cell_type": "code",
   "execution_count": 4,
   "id": "9d54451b",
   "metadata": {
    "execution": {
     "iopub.execute_input": "2023-07-29T07:27:24.992710Z",
     "iopub.status.busy": "2023-07-29T07:27:24.991229Z",
     "iopub.status.idle": "2023-07-29T07:27:24.996429Z",
     "shell.execute_reply": "2023-07-29T07:27:24.995647Z"
    },
    "papermill": {
     "duration": 0.016978,
     "end_time": "2023-07-29T07:27:24.998393",
     "exception": false,
     "start_time": "2023-07-29T07:27:24.981415",
     "status": "completed"
    },
    "tags": []
   },
   "outputs": [],
   "source": [
    "#encoded_train_dataset[0]"
   ]
  },
  {
   "cell_type": "markdown",
   "id": "172a3205",
   "metadata": {
    "papermill": {
     "duration": 0.008501,
     "end_time": "2023-07-29T07:27:25.015634",
     "exception": false,
     "start_time": "2023-07-29T07:27:25.007133",
     "status": "completed"
    },
    "tags": []
   },
   "source": [
    "# See the Labels"
   ]
  },
  {
   "cell_type": "code",
   "execution_count": 5,
   "id": "191c38f6",
   "metadata": {
    "execution": {
     "iopub.execute_input": "2023-07-29T07:27:25.035821Z",
     "iopub.status.busy": "2023-07-29T07:27:25.034361Z",
     "iopub.status.idle": "2023-07-29T07:27:25.041913Z",
     "shell.execute_reply": "2023-07-29T07:27:25.041070Z"
    },
    "papermill": {
     "duration": 0.019431,
     "end_time": "2023-07-29T07:27:25.044084",
     "exception": false,
     "start_time": "2023-07-29T07:27:25.024653",
     "status": "completed"
    },
    "tags": []
   },
   "outputs": [
    {
     "name": "stdout",
     "output_type": "stream",
     "text": [
      "[0, 0, 0, 1, 0, 1, 0, 0, 0, 0]\n"
     ]
    }
   ],
   "source": [
    "print(encoded_train_dataset['labels'][:10])"
   ]
  },
  {
   "cell_type": "code",
   "execution_count": 6,
   "id": "5f662e2f",
   "metadata": {
    "execution": {
     "iopub.execute_input": "2023-07-29T07:27:25.062706Z",
     "iopub.status.busy": "2023-07-29T07:27:25.062441Z",
     "iopub.status.idle": "2023-07-29T07:27:25.069369Z",
     "shell.execute_reply": "2023-07-29T07:27:25.068315Z"
    },
    "papermill": {
     "duration": 0.018557,
     "end_time": "2023-07-29T07:27:25.071356",
     "exception": false,
     "start_time": "2023-07-29T07:27:25.052799",
     "status": "completed"
    },
    "tags": []
   },
   "outputs": [],
   "source": [
    "answer_mapping = {'A': 0, 'B': 1, 'C': 2, 'D': 3, 'E': 4}\n",
    "train_labels = train_df['answer'].map(answer_mapping)"
   ]
  },
  {
   "cell_type": "code",
   "execution_count": 7,
   "id": "97d0130b",
   "metadata": {
    "execution": {
     "iopub.execute_input": "2023-07-29T07:27:25.090293Z",
     "iopub.status.busy": "2023-07-29T07:27:25.089992Z",
     "iopub.status.idle": "2023-07-29T07:27:25.098564Z",
     "shell.execute_reply": "2023-07-29T07:27:25.097570Z"
    },
    "papermill": {
     "duration": 0.020304,
     "end_time": "2023-07-29T07:27:25.100726",
     "exception": false,
     "start_time": "2023-07-29T07:27:25.080422",
     "status": "completed"
    },
    "tags": []
   },
   "outputs": [
    {
     "data": {
      "text/plain": [
       "0      3\n",
       "1      0\n",
       "2      0\n",
       "3      2\n",
       "4      3\n",
       "      ..\n",
       "195    2\n",
       "196    1\n",
       "197    1\n",
       "198    3\n",
       "199    2\n",
       "Name: answer, Length: 200, dtype: int64"
      ]
     },
     "execution_count": 7,
     "metadata": {},
     "output_type": "execute_result"
    }
   ],
   "source": [
    "train_labels"
   ]
  },
  {
   "cell_type": "markdown",
   "id": "de536ae4",
   "metadata": {
    "papermill": {
     "duration": 0.008629,
     "end_time": "2023-07-29T07:27:25.118331",
     "exception": false,
     "start_time": "2023-07-29T07:27:25.109702",
     "status": "completed"
    },
    "tags": []
   },
   "source": [
    "# Initialize the Model\n",
    "\n",
    "We need to initialize the LLM for fine-tuning. We use a version of the LLM that is **specifically designed for multiple-choice tasks**.\n",
    "\n",
    "**This time we use BERT-large.** The primary difference between the \"base\" and \"large\" versions of BERT models lies in **their size, which is reflected in the number of parameters they have, the number of transformer layers (i.e., the \"depth\" of the network), and the size of these layers (i.e., the \"width\" of the network)**. This directly impacts the model's capacity to learn from data, its computational requirements, and its performance on different tasks.\n",
    "\n",
    "Here's a quick comparison:\n",
    "\n",
    "    BERT-base: BERT-base models are smaller versions, with 12 transformer layers, each with a hidden size of 768, and 12 attention heads. This results in a total of about 110 million parameters.\n",
    "\n",
    "    BERT-large: BERT-large models are much bigger, with 24 transformer layers, each with a hidden size of 1024, and 16 attention heads. This results in a total of about 340 million parameters.\n",
    "\n",
    "**Because BERT-large models are larger and have more parameters, they have a greater capacity to learn and model complex patterns in data.** As a result, they typically perform better on tasks involving understanding natural language. **However, they also require more computational resources (both for training and inference), and the improvements they provide may not always justify the increased computational cost**, depending on the specific application and available resources.\n",
    "\n",
    "**The uncased model does not distinguish between uppercase and lowercase letters (it lowercases all input before tokenizing), whereas the cased model does keep the original letter cases.**"
   ]
  },
  {
   "cell_type": "code",
   "execution_count": 8,
   "id": "dfcbac07",
   "metadata": {
    "execution": {
     "iopub.execute_input": "2023-07-29T07:27:25.138129Z",
     "iopub.status.busy": "2023-07-29T07:27:25.137310Z",
     "iopub.status.idle": "2023-07-29T07:27:54.866858Z",
     "shell.execute_reply": "2023-07-29T07:27:54.865811Z"
    },
    "papermill": {
     "duration": 29.742005,
     "end_time": "2023-07-29T07:27:54.869265",
     "exception": false,
     "start_time": "2023-07-29T07:27:25.127260",
     "status": "completed"
    },
    "tags": []
   },
   "outputs": [
    {
     "name": "stderr",
     "output_type": "stream",
     "text": [
      "/opt/conda/lib/python3.10/site-packages/scipy/__init__.py:146: UserWarning: A NumPy version >=1.16.5 and <1.23.0 is required for this version of SciPy (detected version 1.23.5\n",
      "  warnings.warn(f\"A NumPy version >={np_minversion} and <{np_maxversion}\"\n",
      "/opt/conda/lib/python3.10/site-packages/tensorflow_io/python/ops/__init__.py:98: UserWarning: unable to load libtensorflow_io_plugins.so: unable to open file: libtensorflow_io_plugins.so, from paths: ['/opt/conda/lib/python3.10/site-packages/tensorflow_io/python/ops/libtensorflow_io_plugins.so']\n",
      "caused by: ['/opt/conda/lib/python3.10/site-packages/tensorflow_io/python/ops/libtensorflow_io_plugins.so: undefined symbol: _ZN3tsl6StatusC1EN10tensorflow5error4CodeESt17basic_string_viewIcSt11char_traitsIcEENS_14SourceLocationE']\n",
      "  warnings.warn(f\"unable to load libtensorflow_io_plugins.so: {e}\")\n",
      "/opt/conda/lib/python3.10/site-packages/tensorflow_io/python/ops/__init__.py:104: UserWarning: file system plugins are not loaded: unable to open file: libtensorflow_io.so, from paths: ['/opt/conda/lib/python3.10/site-packages/tensorflow_io/python/ops/libtensorflow_io.so']\n",
      "caused by: ['/opt/conda/lib/python3.10/site-packages/tensorflow_io/python/ops/libtensorflow_io.so: undefined symbol: _ZTVN10tensorflow13GcsFileSystemE']\n",
      "  warnings.warn(f\"file system plugins are not loaded: {e}\")\n",
      "Some weights of the model checkpoint at /kaggle/input/huggingface-bert/bert-large-uncased were not used when initializing BertForMultipleChoice: ['cls.seq_relationship.bias', 'cls.predictions.transform.LayerNorm.bias', 'cls.predictions.transform.dense.weight', 'cls.predictions.bias', 'cls.predictions.decoder.weight', 'cls.predictions.transform.LayerNorm.weight', 'cls.seq_relationship.weight', 'cls.predictions.transform.dense.bias']\n",
      "- This IS expected if you are initializing BertForMultipleChoice from the checkpoint of a model trained on another task or with another architecture (e.g. initializing a BertForSequenceClassification model from a BertForPreTraining model).\n",
      "- This IS NOT expected if you are initializing BertForMultipleChoice from the checkpoint of a model that you expect to be exactly identical (initializing a BertForSequenceClassification model from a BertForSequenceClassification model).\n",
      "Some weights of BertForMultipleChoice were not initialized from the model checkpoint at /kaggle/input/huggingface-bert/bert-large-uncased and are newly initialized: ['classifier.weight', 'classifier.bias']\n",
      "You should probably TRAIN this model on a down-stream task to be able to use it for predictions and inference.\n"
     ]
    }
   ],
   "source": [
    "from transformers import AutoModelForMultipleChoice\n",
    "\n",
    "model = AutoModelForMultipleChoice.from_pretrained(MODEL_DIR + \"bert-large-uncased\")"
   ]
  },
  {
   "cell_type": "markdown",
   "id": "9a777944",
   "metadata": {
    "papermill": {
     "duration": 0.009231,
     "end_time": "2023-07-29T07:27:54.888249",
     "exception": false,
     "start_time": "2023-07-29T07:27:54.879018",
     "status": "completed"
    },
    "tags": []
   },
   "source": [
    "# Train the Model\n",
    "\n",
    "Finally, we can train the model using a library like Hugging Face's Transformers, which provides an easy-to-use Trainer class. We need to provide our encoded dataset, the correct labels, and some training arguments to the Trainer, and then call the train method to start training.\n",
    "\n",
    "**Remember, this is a simplification. In a real setting, you would probably want to include a validation step, handle the tokenization in a more sophisticated way to deal with long sequences, and so on.**\n",
    "\n",
    "Moreover, **training LLMs from scratch is computationally expensive and can take a very long time, even on multiple GPUs**. In practice, **we often use a pre-trained LLM and fine-tune it on our specific task, which is much quicker and requires less computational resources**."
   ]
  },
  {
   "cell_type": "code",
   "execution_count": 9,
   "id": "60b5f7e6",
   "metadata": {
    "execution": {
     "iopub.execute_input": "2023-07-29T07:27:54.908248Z",
     "iopub.status.busy": "2023-07-29T07:27:54.907908Z",
     "iopub.status.idle": "2023-07-29T07:27:54.915977Z",
     "shell.execute_reply": "2023-07-29T07:27:54.915087Z"
    },
    "papermill": {
     "duration": 0.020584,
     "end_time": "2023-07-29T07:27:54.918080",
     "exception": false,
     "start_time": "2023-07-29T07:27:54.897496",
     "status": "completed"
    },
    "tags": []
   },
   "outputs": [],
   "source": [
    "def compute_metrics(pred):\n",
    "    labels = pred.label_ids\n",
    "    preds = pred.predictions\n",
    "    map3 = mean_average_precision_at_3(labels, preds)\n",
    "    return {\n",
    "        'map3': map3\n",
    "    }\n",
    "\n",
    "def mean_average_precision_at_3(labels, preds):\n",
    "    ap3s = [average_precision_at_3(label, pred) for label, pred in zip(labels, preds)]\n",
    "    return sum(ap3s) / len(ap3s)\n",
    "\n",
    "def average_precision_at_3(label, pred):\n",
    "    try:\n",
    "        return (1 / (pred[:3].index(label) + 1))\n",
    "    except ValueError:\n",
    "        return 0"
   ]
  },
  {
   "cell_type": "markdown",
   "id": "234df7fc",
   "metadata": {
    "papermill": {
     "duration": 0.009015,
     "end_time": "2023-07-29T07:27:54.936353",
     "exception": false,
     "start_time": "2023-07-29T07:27:54.927338",
     "status": "completed"
    },
    "tags": []
   },
   "source": [
    "This code **computes the average precision at 3 for each question, then takes the mean of these scores**. The average_precision_at_3 function returns the precision at the rank of the correct label if it is within the top 3 predictions, or 0 otherwise. It uses the index method to find the rank of the correct label, adding 1 because index is 0-based while ranks are 1-based. The try/except block handles the case where the correct label is not in the top 3 predictions."
   ]
  },
  {
   "cell_type": "code",
   "execution_count": 10,
   "id": "6438b35f",
   "metadata": {
    "execution": {
     "iopub.execute_input": "2023-07-29T07:27:54.956661Z",
     "iopub.status.busy": "2023-07-29T07:27:54.955751Z",
     "iopub.status.idle": "2023-07-29T07:28:01.362882Z",
     "shell.execute_reply": "2023-07-29T07:28:01.361774Z"
    },
    "papermill": {
     "duration": 6.419699,
     "end_time": "2023-07-29T07:28:01.365329",
     "exception": false,
     "start_time": "2023-07-29T07:27:54.945630",
     "status": "completed"
    },
    "tags": []
   },
   "outputs": [],
   "source": [
    "from transformers import TrainingArguments, Trainer\n",
    "\n",
    "# Disable wandb globally.\n",
    "import os\n",
    "os.environ[\"WANDB_DISABLED\"] = \"true\"\n",
    "\n",
    "training_args = TrainingArguments(\n",
    "    output_dir = './finetuned_bert',  # change to a local directory\n",
    "    num_train_epochs = 3,\n",
    "    per_device_train_batch_size = 1,\n",
    "    learning_rate = 2e-5,\n",
    "    gradient_accumulation_steps = 2,\n",
    "    report_to =  [],  # Disable all integrations.\n",
    ")\n",
    "\n",
    "\n",
    "trainer = Trainer(\n",
    "    model = model,\n",
    "    args = training_args,\n",
    "    train_dataset = encoded_train_dataset,\n",
    "    compute_metrics = compute_metrics,  # optional function to compute metrics for evaluation\n",
    ")"
   ]
  },
  {
   "cell_type": "code",
   "execution_count": 11,
   "id": "869b70e4",
   "metadata": {
    "execution": {
     "iopub.execute_input": "2023-07-29T07:28:01.385661Z",
     "iopub.status.busy": "2023-07-29T07:28:01.385352Z",
     "iopub.status.idle": "2023-07-29T07:49:03.742588Z",
     "shell.execute_reply": "2023-07-29T07:49:03.741701Z"
    },
    "papermill": {
     "duration": 1262.369934,
     "end_time": "2023-07-29T07:49:03.744808",
     "exception": false,
     "start_time": "2023-07-29T07:28:01.374874",
     "status": "completed"
    },
    "tags": []
   },
   "outputs": [
    {
     "name": "stderr",
     "output_type": "stream",
     "text": [
      "/opt/conda/lib/python3.10/site-packages/transformers/optimization.py:411: FutureWarning: This implementation of AdamW is deprecated and will be removed in a future version. Use the PyTorch implementation torch.optim.AdamW instead, or set `no_deprecation_warning=True` to disable this warning\n",
      "  warnings.warn(\n"
     ]
    },
    {
     "data": {
      "text/html": [
       "\n",
       "    <div>\n",
       "      \n",
       "      <progress value='1500' max='1500' style='width:300px; height:20px; vertical-align: middle;'></progress>\n",
       "      [1500/1500 20:59, Epoch 3/3]\n",
       "    </div>\n",
       "    <table border=\"1\" class=\"dataframe\">\n",
       "  <thead>\n",
       " <tr style=\"text-align: left;\">\n",
       "      <th>Step</th>\n",
       "      <th>Training Loss</th>\n",
       "    </tr>\n",
       "  </thead>\n",
       "  <tbody>\n",
       "    <tr>\n",
       "      <td>500</td>\n",
       "      <td>0.811600</td>\n",
       "    </tr>\n",
       "    <tr>\n",
       "      <td>1000</td>\n",
       "      <td>0.899600</td>\n",
       "    </tr>\n",
       "    <tr>\n",
       "      <td>1500</td>\n",
       "      <td>0.900700</td>\n",
       "    </tr>\n",
       "  </tbody>\n",
       "</table><p>"
      ],
      "text/plain": [
       "<IPython.core.display.HTML object>"
      ]
     },
     "metadata": {},
     "output_type": "display_data"
    },
    {
     "data": {
      "text/plain": [
       "TrainOutput(global_step=1500, training_loss=0.870613037109375, metrics={'train_runtime': 1261.9969, 'train_samples_per_second': 2.377, 'train_steps_per_second': 1.189, 'total_flos': 5591569287168000.0, 'train_loss': 0.870613037109375, 'epoch': 3.0})"
      ]
     },
     "execution_count": 11,
     "metadata": {},
     "output_type": "execute_result"
    }
   ],
   "source": [
    "trainer.train()"
   ]
  },
  {
   "cell_type": "markdown",
   "id": "524013a7",
   "metadata": {
    "papermill": {
     "duration": 0.073366,
     "end_time": "2023-07-29T07:49:04.132018",
     "exception": false,
     "start_time": "2023-07-29T07:49:04.058652",
     "status": "completed"
    },
    "tags": []
   },
   "source": [
    "# Predict the Test Data\n",
    "\n",
    "We will make predictions with the trained model and test data."
   ]
  },
  {
   "cell_type": "code",
   "execution_count": 12,
   "id": "e63a5d51",
   "metadata": {
    "execution": {
     "iopub.execute_input": "2023-07-29T07:49:04.369848Z",
     "iopub.status.busy": "2023-07-29T07:49:04.369199Z",
     "iopub.status.idle": "2023-07-29T07:49:04.435082Z",
     "shell.execute_reply": "2023-07-29T07:49:04.434077Z"
    },
    "papermill": {
     "duration": 0.132852,
     "end_time": "2023-07-29T07:49:04.438288",
     "exception": false,
     "start_time": "2023-07-29T07:49:04.305436",
     "status": "completed"
    },
    "tags": []
   },
   "outputs": [
    {
     "data": {
      "text/html": [
       "<div>\n",
       "<style scoped>\n",
       "    .dataframe tbody tr th:only-of-type {\n",
       "        vertical-align: middle;\n",
       "    }\n",
       "\n",
       "    .dataframe tbody tr th {\n",
       "        vertical-align: top;\n",
       "    }\n",
       "\n",
       "    .dataframe thead th {\n",
       "        text-align: right;\n",
       "    }\n",
       "</style>\n",
       "<table border=\"1\" class=\"dataframe\">\n",
       "  <thead>\n",
       "    <tr style=\"text-align: right;\">\n",
       "      <th></th>\n",
       "      <th>id</th>\n",
       "      <th>prompt</th>\n",
       "      <th>A</th>\n",
       "      <th>B</th>\n",
       "      <th>C</th>\n",
       "      <th>D</th>\n",
       "      <th>E</th>\n",
       "    </tr>\n",
       "  </thead>\n",
       "  <tbody>\n",
       "    <tr>\n",
       "      <th>0</th>\n",
       "      <td>0</td>\n",
       "      <td>Which of the following statements accurately d...</td>\n",
       "      <td>MOND is a theory that reduces the observed mis...</td>\n",
       "      <td>MOND is a theory that increases the discrepanc...</td>\n",
       "      <td>MOND is a theory that explains the missing bar...</td>\n",
       "      <td>MOND is a theory that reduces the discrepancy ...</td>\n",
       "      <td>MOND is a theory that eliminates the observed ...</td>\n",
       "    </tr>\n",
       "    <tr>\n",
       "      <th>1</th>\n",
       "      <td>1</td>\n",
       "      <td>Which of the following is an accurate definiti...</td>\n",
       "      <td>Dynamic scaling refers to the evolution of sel...</td>\n",
       "      <td>Dynamic scaling refers to the non-evolution of...</td>\n",
       "      <td>Dynamic scaling refers to the evolution of sel...</td>\n",
       "      <td>Dynamic scaling refers to the non-evolution of...</td>\n",
       "      <td>Dynamic scaling refers to the evolution of sel...</td>\n",
       "    </tr>\n",
       "    <tr>\n",
       "      <th>2</th>\n",
       "      <td>2</td>\n",
       "      <td>Which of the following statements accurately d...</td>\n",
       "      <td>The triskeles symbol was reconstructed as a fe...</td>\n",
       "      <td>The triskeles symbol is a representation of th...</td>\n",
       "      <td>The triskeles symbol is a representation of a ...</td>\n",
       "      <td>The triskeles symbol represents three interloc...</td>\n",
       "      <td>The triskeles symbol is a representation of th...</td>\n",
       "    </tr>\n",
       "    <tr>\n",
       "      <th>3</th>\n",
       "      <td>3</td>\n",
       "      <td>What is the significance of regularization in ...</td>\n",
       "      <td>Regularizing the mass-energy of an electron wi...</td>\n",
       "      <td>Regularizing the mass-energy of an electron wi...</td>\n",
       "      <td>Regularizing the mass-energy of an electron wi...</td>\n",
       "      <td>Regularizing the mass-energy of an electron wi...</td>\n",
       "      <td>Regularizing the mass-energy of an electron wi...</td>\n",
       "    </tr>\n",
       "    <tr>\n",
       "      <th>4</th>\n",
       "      <td>4</td>\n",
       "      <td>Which of the following statements accurately d...</td>\n",
       "      <td>The angular spacing of features in the diffrac...</td>\n",
       "      <td>The angular spacing of features in the diffrac...</td>\n",
       "      <td>The angular spacing of features in the diffrac...</td>\n",
       "      <td>The angular spacing of features in the diffrac...</td>\n",
       "      <td>The angular spacing of features in the diffrac...</td>\n",
       "    </tr>\n",
       "    <tr>\n",
       "      <th>...</th>\n",
       "      <td>...</td>\n",
       "      <td>...</td>\n",
       "      <td>...</td>\n",
       "      <td>...</td>\n",
       "      <td>...</td>\n",
       "      <td>...</td>\n",
       "      <td>...</td>\n",
       "    </tr>\n",
       "    <tr>\n",
       "      <th>195</th>\n",
       "      <td>195</td>\n",
       "      <td>What is the relation between the three moment ...</td>\n",
       "      <td>The three moment theorem expresses the relatio...</td>\n",
       "      <td>The three moment theorem is used to calculate ...</td>\n",
       "      <td>The three moment theorem describes the relatio...</td>\n",
       "      <td>The three moment theorem is used to calculate ...</td>\n",
       "      <td>The three moment theorem is used to derive the...</td>\n",
       "    </tr>\n",
       "    <tr>\n",
       "      <th>196</th>\n",
       "      <td>196</td>\n",
       "      <td>What is the throttling process, and why is it ...</td>\n",
       "      <td>The throttling process is a steady flow of a f...</td>\n",
       "      <td>The throttling process is a steady adiabatic f...</td>\n",
       "      <td>The throttling process is a steady adiabatic f...</td>\n",
       "      <td>The throttling process is a steady flow of a f...</td>\n",
       "      <td>The throttling process is a steady adiabatic f...</td>\n",
       "    </tr>\n",
       "    <tr>\n",
       "      <th>197</th>\n",
       "      <td>197</td>\n",
       "      <td>What happens to excess base metal as a solutio...</td>\n",
       "      <td>The excess base metal will often solidify, bec...</td>\n",
       "      <td>The excess base metal will often crystallize-o...</td>\n",
       "      <td>The excess base metal will often dissolve, bec...</td>\n",
       "      <td>The excess base metal will often liquefy, beco...</td>\n",
       "      <td>The excess base metal will often evaporate, be...</td>\n",
       "    </tr>\n",
       "    <tr>\n",
       "      <th>198</th>\n",
       "      <td>198</td>\n",
       "      <td>What is the relationship between mass, force, ...</td>\n",
       "      <td>Mass is a property that determines the weight ...</td>\n",
       "      <td>Mass is an inertial property that determines a...</td>\n",
       "      <td>Mass is an inertial property that determines a...</td>\n",
       "      <td>Mass is an inertial property that determines a...</td>\n",
       "      <td>Mass is a property that determines the size of...</td>\n",
       "    </tr>\n",
       "    <tr>\n",
       "      <th>199</th>\n",
       "      <td>199</td>\n",
       "      <td>What did Arthur Eddington discover about two o...</td>\n",
       "      <td>Arthur Eddington showed that two of Einstein's...</td>\n",
       "      <td>Arthur Eddington showed that two of Einstein's...</td>\n",
       "      <td>Arthur Eddington showed that two of Einstein's...</td>\n",
       "      <td>Arthur Eddington showed that two of Einstein's...</td>\n",
       "      <td>Arthur Eddington showed that two of Einstein's...</td>\n",
       "    </tr>\n",
       "  </tbody>\n",
       "</table>\n",
       "<p>200 rows × 7 columns</p>\n",
       "</div>"
      ],
      "text/plain": [
       "      id                                             prompt  \\\n",
       "0      0  Which of the following statements accurately d...   \n",
       "1      1  Which of the following is an accurate definiti...   \n",
       "2      2  Which of the following statements accurately d...   \n",
       "3      3  What is the significance of regularization in ...   \n",
       "4      4  Which of the following statements accurately d...   \n",
       "..   ...                                                ...   \n",
       "195  195  What is the relation between the three moment ...   \n",
       "196  196  What is the throttling process, and why is it ...   \n",
       "197  197  What happens to excess base metal as a solutio...   \n",
       "198  198  What is the relationship between mass, force, ...   \n",
       "199  199  What did Arthur Eddington discover about two o...   \n",
       "\n",
       "                                                     A  \\\n",
       "0    MOND is a theory that reduces the observed mis...   \n",
       "1    Dynamic scaling refers to the evolution of sel...   \n",
       "2    The triskeles symbol was reconstructed as a fe...   \n",
       "3    Regularizing the mass-energy of an electron wi...   \n",
       "4    The angular spacing of features in the diffrac...   \n",
       "..                                                 ...   \n",
       "195  The three moment theorem expresses the relatio...   \n",
       "196  The throttling process is a steady flow of a f...   \n",
       "197  The excess base metal will often solidify, bec...   \n",
       "198  Mass is a property that determines the weight ...   \n",
       "199  Arthur Eddington showed that two of Einstein's...   \n",
       "\n",
       "                                                     B  \\\n",
       "0    MOND is a theory that increases the discrepanc...   \n",
       "1    Dynamic scaling refers to the non-evolution of...   \n",
       "2    The triskeles symbol is a representation of th...   \n",
       "3    Regularizing the mass-energy of an electron wi...   \n",
       "4    The angular spacing of features in the diffrac...   \n",
       "..                                                 ...   \n",
       "195  The three moment theorem is used to calculate ...   \n",
       "196  The throttling process is a steady adiabatic f...   \n",
       "197  The excess base metal will often crystallize-o...   \n",
       "198  Mass is an inertial property that determines a...   \n",
       "199  Arthur Eddington showed that two of Einstein's...   \n",
       "\n",
       "                                                     C  \\\n",
       "0    MOND is a theory that explains the missing bar...   \n",
       "1    Dynamic scaling refers to the evolution of sel...   \n",
       "2    The triskeles symbol is a representation of a ...   \n",
       "3    Regularizing the mass-energy of an electron wi...   \n",
       "4    The angular spacing of features in the diffrac...   \n",
       "..                                                 ...   \n",
       "195  The three moment theorem describes the relatio...   \n",
       "196  The throttling process is a steady adiabatic f...   \n",
       "197  The excess base metal will often dissolve, bec...   \n",
       "198  Mass is an inertial property that determines a...   \n",
       "199  Arthur Eddington showed that two of Einstein's...   \n",
       "\n",
       "                                                     D  \\\n",
       "0    MOND is a theory that reduces the discrepancy ...   \n",
       "1    Dynamic scaling refers to the non-evolution of...   \n",
       "2    The triskeles symbol represents three interloc...   \n",
       "3    Regularizing the mass-energy of an electron wi...   \n",
       "4    The angular spacing of features in the diffrac...   \n",
       "..                                                 ...   \n",
       "195  The three moment theorem is used to calculate ...   \n",
       "196  The throttling process is a steady flow of a f...   \n",
       "197  The excess base metal will often liquefy, beco...   \n",
       "198  Mass is an inertial property that determines a...   \n",
       "199  Arthur Eddington showed that two of Einstein's...   \n",
       "\n",
       "                                                     E  \n",
       "0    MOND is a theory that eliminates the observed ...  \n",
       "1    Dynamic scaling refers to the evolution of sel...  \n",
       "2    The triskeles symbol is a representation of th...  \n",
       "3    Regularizing the mass-energy of an electron wi...  \n",
       "4    The angular spacing of features in the diffrac...  \n",
       "..                                                 ...  \n",
       "195  The three moment theorem is used to derive the...  \n",
       "196  The throttling process is a steady adiabatic f...  \n",
       "197  The excess base metal will often evaporate, be...  \n",
       "198  Mass is a property that determines the size of...  \n",
       "199  Arthur Eddington showed that two of Einstein's...  \n",
       "\n",
       "[200 rows x 7 columns]"
      ]
     },
     "execution_count": 12,
     "metadata": {},
     "output_type": "execute_result"
    }
   ],
   "source": [
    "test_df = pd.read_csv(\"/kaggle/input/kaggle-llm-science-exam/test.csv\")\n",
    "test_df"
   ]
  },
  {
   "cell_type": "markdown",
   "id": "e76bc101",
   "metadata": {
    "papermill": {
     "duration": 0.070679,
     "end_time": "2023-07-29T07:49:04.578503",
     "exception": false,
     "start_time": "2023-07-29T07:49:04.507824",
     "status": "completed"
    },
    "tags": []
   },
   "source": [
    "Encoding: This is the step we are performing with our encode_test() function. Each prompt and option pair is tokenized."
   ]
  },
  {
   "cell_type": "code",
   "execution_count": 13,
   "id": "fe844f94",
   "metadata": {
    "execution": {
     "iopub.execute_input": "2023-07-29T07:49:04.707985Z",
     "iopub.status.busy": "2023-07-29T07:49:04.704719Z",
     "iopub.status.idle": "2023-07-29T07:49:06.271875Z",
     "shell.execute_reply": "2023-07-29T07:49:06.270901Z"
    },
    "papermill": {
     "duration": 1.63513,
     "end_time": "2023-07-29T07:49:06.274280",
     "exception": false,
     "start_time": "2023-07-29T07:49:04.639150",
     "status": "completed"
    },
    "tags": []
   },
   "outputs": [
    {
     "data": {
      "text/plain": [
       "0      [[input_ids, token_type_ids, attention_mask], ...\n",
       "1      [[input_ids, token_type_ids, attention_mask], ...\n",
       "2      [[input_ids, token_type_ids, attention_mask], ...\n",
       "3      [[input_ids, token_type_ids, attention_mask], ...\n",
       "4      [[input_ids, token_type_ids, attention_mask], ...\n",
       "                             ...                        \n",
       "195    [[input_ids, token_type_ids, attention_mask], ...\n",
       "196    [[input_ids, token_type_ids, attention_mask], ...\n",
       "197    [[input_ids, token_type_ids, attention_mask], ...\n",
       "198    [[input_ids, token_type_ids, attention_mask], ...\n",
       "199    [[input_ids, token_type_ids, attention_mask], ...\n",
       "Length: 200, dtype: object"
      ]
     },
     "execution_count": 13,
     "metadata": {},
     "output_type": "execute_result"
    }
   ],
   "source": [
    "def encode_test(example):\n",
    "    # Format the context and the options.\n",
    "    prompt = str(example['prompt'])\n",
    "    options = [str(option) for option in example[['A', 'B', 'C', 'D', 'E']].values.tolist()]\n",
    "    examples = []\n",
    "\n",
    "    # Tokenize the question and the options.\n",
    "    for option in options:\n",
    "        text_pair = [prompt, option]\n",
    "        encoded = tokenizer(text_pair, truncation = True, padding = 'max_length', max_length = 512)\n",
    "        examples.append(encoded)\n",
    "\n",
    "    return examples\n",
    "\n",
    "encoded_test_df = test_df.apply(encode_test, axis = 1)\n",
    "encoded_test_df"
   ]
  },
  {
   "cell_type": "markdown",
   "id": "243a0462",
   "metadata": {
    "papermill": {
     "duration": 0.011885,
     "end_time": "2023-07-29T07:49:06.296517",
     "exception": false,
     "start_time": "2023-07-29T07:49:06.284632",
     "status": "completed"
    },
    "tags": []
   },
   "source": [
    "Prediction: Next, we need to loop over the encoded inputs, feed them to the model, and store the model outputs."
   ]
  },
  {
   "cell_type": "code",
   "execution_count": 14,
   "id": "985c10a0",
   "metadata": {
    "execution": {
     "iopub.execute_input": "2023-07-29T07:49:06.318664Z",
     "iopub.status.busy": "2023-07-29T07:49:06.318318Z",
     "iopub.status.idle": "2023-07-29T07:51:06.816919Z",
     "shell.execute_reply": "2023-07-29T07:51:06.815899Z"
    },
    "papermill": {
     "duration": 120.513242,
     "end_time": "2023-07-29T07:51:06.820167",
     "exception": false,
     "start_time": "2023-07-29T07:49:06.306925",
     "status": "completed"
    },
    "tags": []
   },
   "outputs": [],
   "source": [
    "import torch\n",
    "\n",
    "# Check if a GPU is available and if not, default to CPU.\n",
    "device = torch.device(\"cuda\" if torch.cuda.is_available() else \"cpu\")\n",
    "\n",
    "# Reduce batch size and limit sequence length.\n",
    "batch_size = 2\n",
    "sequence_length = 128\n",
    "\n",
    "predictions = []\n",
    "for row in encoded_test_df:\n",
    "    # Truncate or pad sequences to a fixed length.\n",
    "    row = row[:sequence_length]\n",
    "\n",
    "    # Create tensors for input_ids and attention_mask.\n",
    "    input_ids = torch.tensor([item['input_ids'] for item in row], dtype = torch.long).to(device)\n",
    "    attention_mask = torch.tensor([item['attention_mask'] for item in row], dtype = torch.long).to(device)\n",
    "\n",
    "    # Run inference with reduced batch size.\n",
    "    with torch.no_grad():\n",
    "        outputs = model(input_ids = input_ids, attention_mask = attention_mask)\n",
    "\n",
    "    predictions.append(outputs.logits.detach().cpu().numpy())\n",
    "\n",
    "    # Free GPU memory by deleting tensors.\n",
    "    del input_ids, attention_mask, outputs"
   ]
  },
  {
   "cell_type": "code",
   "execution_count": 15,
   "id": "9886c149",
   "metadata": {
    "execution": {
     "iopub.execute_input": "2023-07-29T07:51:06.853492Z",
     "iopub.status.busy": "2023-07-29T07:51:06.853065Z",
     "iopub.status.idle": "2023-07-29T07:51:06.865378Z",
     "shell.execute_reply": "2023-07-29T07:51:06.864563Z"
    },
    "papermill": {
     "duration": 0.031619,
     "end_time": "2023-07-29T07:51:06.868199",
     "exception": false,
     "start_time": "2023-07-29T07:51:06.836580",
     "status": "completed"
    },
    "tags": []
   },
   "outputs": [
    {
     "data": {
      "text/plain": [
       "[array([[ 1.7470471, -2.75272  ],\n",
       "        [ 1.8250095, -2.7173905],\n",
       "        [ 1.4937419, -2.5346873],\n",
       "        [ 1.5739166, -2.7298005],\n",
       "        [ 1.7606474, -3.0581536]], dtype=float32),\n",
       " array([[ 1.7203988, -3.1391954],\n",
       "        [ 1.6464144, -2.781812 ],\n",
       "        [ 1.8905977, -3.043336 ],\n",
       "        [ 1.960199 , -3.2677853],\n",
       "        [ 1.578221 , -2.9811356]], dtype=float32),\n",
       " array([[ 1.6226839, -2.752939 ],\n",
       "        [ 1.3052988, -2.861816 ],\n",
       "        [ 1.8684896, -2.730403 ],\n",
       "        [ 1.5543457, -2.7988257],\n",
       "        [ 1.3113433, -2.4241931]], dtype=float32),\n",
       " array([[ 1.5114813, -2.925351 ],\n",
       "        [ 1.7303464, -2.8416784],\n",
       "        [ 1.3561625, -3.0312107],\n",
       "        [ 1.8990922, -2.547281 ],\n",
       "        [ 1.5986308, -2.5669444]], dtype=float32),\n",
       " array([[ 1.5440885, -3.2125337],\n",
       "        [ 1.6516278, -2.7359486],\n",
       "        [ 1.7285665, -2.8988252],\n",
       "        [ 1.6379677, -2.4674737],\n",
       "        [ 1.4059753, -3.0843155]], dtype=float32)]"
      ]
     },
     "execution_count": 15,
     "metadata": {},
     "output_type": "execute_result"
    }
   ],
   "source": [
    "predictions[0:5]"
   ]
  },
  {
   "cell_type": "markdown",
   "id": "6b2bccb8",
   "metadata": {
    "papermill": {
     "duration": 0.015201,
     "end_time": "2023-07-29T07:51:06.899008",
     "exception": false,
     "start_time": "2023-07-29T07:51:06.883807",
     "status": "completed"
    },
    "tags": []
   },
   "source": [
    "# Submission"
   ]
  },
  {
   "cell_type": "code",
   "execution_count": 16,
   "id": "c9192930",
   "metadata": {
    "execution": {
     "iopub.execute_input": "2023-07-29T07:51:06.933407Z",
     "iopub.status.busy": "2023-07-29T07:51:06.932899Z",
     "iopub.status.idle": "2023-07-29T07:51:06.941071Z",
     "shell.execute_reply": "2023-07-29T07:51:06.940205Z"
    },
    "papermill": {
     "duration": 0.029113,
     "end_time": "2023-07-29T07:51:06.944383",
     "exception": false,
     "start_time": "2023-07-29T07:51:06.915270",
     "status": "completed"
    },
    "tags": []
   },
   "outputs": [],
   "source": [
    "import numpy as np\n",
    "\n",
    "# Convert the list of predictions to a numpy array.\n",
    "predictions = np.array(predictions)\n",
    "\n",
    "# Get the indices of the top 3 predictions for each question.\n",
    "top_three_indices = (-predictions).argsort(axis = 1)[:, :3].tolist()"
   ]
  },
  {
   "cell_type": "code",
   "execution_count": 17,
   "id": "2e6dd7e0",
   "metadata": {
    "execution": {
     "iopub.execute_input": "2023-07-29T07:51:06.976209Z",
     "iopub.status.busy": "2023-07-29T07:51:06.975804Z",
     "iopub.status.idle": "2023-07-29T07:51:06.986897Z",
     "shell.execute_reply": "2023-07-29T07:51:06.986084Z"
    },
    "papermill": {
     "duration": 0.030194,
     "end_time": "2023-07-29T07:51:06.989517",
     "exception": false,
     "start_time": "2023-07-29T07:51:06.959323",
     "status": "completed"
    },
    "tags": []
   },
   "outputs": [
    {
     "name": "stdout",
     "output_type": "stream",
     "text": [
      "[[2, 1, 3], [1, 4, 2], [4, 2, 0], [3, 4, 1], [3, 1, 2], [1, 3, 4], [4, 2, 1], [4, 0, 2], [3, 1, 2], [4, 1, 0], [0, 4, 1], [3, 2, 1], [4, 3, 2], [1, 2, 0], [2, 0, 4], [1, 0, 3], [0, 1, 3], [4, 0, 3], [0, 4, 1], [4, 1, 0], [1, 2, 0], [3, 1, 2], [3, 0, 2], [4, 1, 2], [0, 4, 3], [2, 3, 0], [2, 0, 1], [4, 3, 1], [0, 1, 2], [2, 4, 3], [0, 1, 3], [3, 4, 1], [3, 1, 0], [3, 2, 1], [3, 0, 1], [0, 4, 3], [1, 3, 2], [1, 3, 4], [4, 0, 2], [1, 2, 3], [0, 1, 2], [4, 2, 0], [1, 4, 2], [1, 3, 2], [2, 3, 4], [2, 0, 3], [1, 4, 2], [1, 2, 4], [0, 4, 1], [1, 3, 2], [1, 3, 4], [1, 3, 2], [0, 2, 4], [2, 1, 0], [1, 0, 4], [2, 0, 3], [2, 0, 3], [0, 2, 4], [3, 2, 1], [2, 1, 0], [1, 4, 2], [0, 1, 3], [3, 2, 1], [2, 4, 1], [1, 4, 3], [4, 1, 3], [3, 0, 2], [1, 4, 0], [4, 2, 3], [2, 4, 3], [1, 3, 2], [1, 2, 4], [3, 4, 2], [3, 4, 1], [3, 0, 2], [2, 0, 4], [0, 4, 2], [1, 0, 4], [2, 0, 1], [2, 3, 4], [0, 4, 3], [1, 0, 3], [3, 1, 0], [0, 2, 3], [4, 2, 0], [1, 0, 3], [0, 2, 4], [2, 4, 0], [1, 0, 2], [4, 1, 0], [3, 0, 2], [1, 3, 2], [3, 0, 4], [2, 3, 0], [4, 3, 2], [3, 2, 4], [3, 4, 2], [3, 4, 2], [3, 1, 4], [2, 0, 1], [3, 4, 1], [4, 3, 2], [0, 3, 2], [1, 2, 0], [4, 0, 1], [3, 2, 0], [0, 4, 3], [0, 3, 2], [3, 0, 4], [1, 2, 0], [4, 1, 2], [3, 4, 0], [0, 3, 1], [1, 3, 0], [0, 2, 3], [3, 4, 0], [1, 2, 3], [0, 3, 4], [2, 3, 4], [0, 4, 3], [1, 3, 0], [4, 0, 2], [2, 0, 3], [4, 2, 0], [1, 4, 0], [1, 3, 4], [3, 0, 2], [3, 4, 2], [4, 2, 1], [3, 1, 4], [3, 2, 1], [2, 4, 1], [4, 1, 0], [1, 0, 4], [1, 4, 0], [0, 3, 4], [4, 3, 0], [0, 4, 2], [0, 4, 3], [0, 3, 2], [2, 4, 3], [4, 3, 2], [0, 3, 2], [3, 2, 4], [2, 1, 0], [0, 3, 1], [3, 4, 1], [2, 3, 0], [2, 1, 4], [0, 2, 4], [1, 3, 2], [4, 1, 0], [4, 1, 0], [2, 3, 0], [2, 0, 4], [3, 0, 1], [2, 3, 1], [3, 2, 1], [1, 3, 2], [0, 2, 4], [4, 3, 0], [2, 4, 3], [2, 1, 0], [0, 1, 3], [3, 4, 0], [4, 3, 0], [3, 4, 2], [2, 0, 3], [1, 2, 0], [1, 0, 4], [4, 3, 2], [2, 1, 0], [4, 3, 1], [4, 2, 0], [1, 0, 4], [3, 0, 4], [3, 2, 4], [3, 4, 1], [4, 0, 2], [4, 1, 0], [2, 1, 4], [0, 2, 3], [1, 2, 4], [0, 2, 1], [3, 2, 4], [1, 0, 3], [2, 4, 1], [0, 4, 2], [2, 4, 3], [4, 1, 3], [2, 0, 3], [2, 3, 0], [0, 4, 3], [2, 1, 4], [4, 2, 1], [1, 0, 2], [0, 1, 2], [0, 2, 4], [1, 2, 0], [0, 1, 3]]\n"
     ]
    }
   ],
   "source": [
    "# Initialize an empty list to store the extracted values.\n",
    "top_values = []\n",
    "\n",
    "# Loop over all elements in the 'top_three_indices' list.\n",
    "for i in range(len(top_three_indices)):\n",
    "    # Use a list comprehension to extract the second element (index 1) from each sublist.\n",
    "    # This will create a new list 'values' containing these three elements.\n",
    "    values = [top_three_indices[i][j][1] for j in range(3)]\n",
    "    # Append this new list to our 'top_values' list.\n",
    "    top_values.append(values)\n",
    "\n",
    "# Print the resulting list of lists.\n",
    "print(top_values)"
   ]
  },
  {
   "cell_type": "code",
   "execution_count": 18,
   "id": "62ae9cc7",
   "metadata": {
    "execution": {
     "iopub.execute_input": "2023-07-29T07:51:07.021108Z",
     "iopub.status.busy": "2023-07-29T07:51:07.020726Z",
     "iopub.status.idle": "2023-07-29T07:51:07.032777Z",
     "shell.execute_reply": "2023-07-29T07:51:07.031873Z"
    },
    "papermill": {
     "duration": 0.030924,
     "end_time": "2023-07-29T07:51:07.035539",
     "exception": false,
     "start_time": "2023-07-29T07:51:07.004615",
     "status": "completed"
    },
    "tags": []
   },
   "outputs": [
    {
     "data": {
      "text/plain": [
       "['C B D', 'B E C', 'E C A', 'D E B', 'D B C']"
      ]
     },
     "execution_count": 18,
     "metadata": {},
     "output_type": "execute_result"
    }
   ],
   "source": [
    "# Define a mapping from indices to labels.\n",
    "index_to_label = {0: 'A', 1: 'B', 2: 'C', 3: 'D', 4: 'E'}\n",
    "\n",
    "# Convert the top three indices to the required format (labels separated by spaces).\n",
    "top_three_labels = [' '.join([index_to_label[idx] for idx in sublist]) for sublist in top_values]\n",
    "top_three_labels[0:5]"
   ]
  },
  {
   "cell_type": "code",
   "execution_count": 19,
   "id": "67ea1db5",
   "metadata": {
    "execution": {
     "iopub.execute_input": "2023-07-29T07:51:07.063091Z",
     "iopub.status.busy": "2023-07-29T07:51:07.062730Z",
     "iopub.status.idle": "2023-07-29T07:51:07.074172Z",
     "shell.execute_reply": "2023-07-29T07:51:07.073317Z"
    },
    "papermill": {
     "duration": 0.025121,
     "end_time": "2023-07-29T07:51:07.076226",
     "exception": false,
     "start_time": "2023-07-29T07:51:07.051105",
     "status": "completed"
    },
    "tags": []
   },
   "outputs": [],
   "source": [
    "# Create a new DataFrame for the submission.\n",
    "submission_df = pd.DataFrame({\n",
    "    'id': test_df['id'],\n",
    "    'prediction': top_three_labels\n",
    "})\n",
    "\n",
    "# Save the submission DataFrame to a .csv file.\n",
    "submission_df.to_csv('submission.csv', index = False)"
   ]
  },
  {
   "cell_type": "code",
   "execution_count": 20,
   "id": "5387f775",
   "metadata": {
    "execution": {
     "iopub.execute_input": "2023-07-29T07:51:07.098513Z",
     "iopub.status.busy": "2023-07-29T07:51:07.098216Z",
     "iopub.status.idle": "2023-07-29T07:51:07.110330Z",
     "shell.execute_reply": "2023-07-29T07:51:07.109315Z"
    },
    "papermill": {
     "duration": 0.026076,
     "end_time": "2023-07-29T07:51:07.112786",
     "exception": false,
     "start_time": "2023-07-29T07:51:07.086710",
     "status": "completed"
    },
    "tags": []
   },
   "outputs": [
    {
     "data": {
      "text/html": [
       "<div>\n",
       "<style scoped>\n",
       "    .dataframe tbody tr th:only-of-type {\n",
       "        vertical-align: middle;\n",
       "    }\n",
       "\n",
       "    .dataframe tbody tr th {\n",
       "        vertical-align: top;\n",
       "    }\n",
       "\n",
       "    .dataframe thead th {\n",
       "        text-align: right;\n",
       "    }\n",
       "</style>\n",
       "<table border=\"1\" class=\"dataframe\">\n",
       "  <thead>\n",
       "    <tr style=\"text-align: right;\">\n",
       "      <th></th>\n",
       "      <th>id</th>\n",
       "      <th>prediction</th>\n",
       "    </tr>\n",
       "  </thead>\n",
       "  <tbody>\n",
       "    <tr>\n",
       "      <th>0</th>\n",
       "      <td>0</td>\n",
       "      <td>C B D</td>\n",
       "    </tr>\n",
       "    <tr>\n",
       "      <th>1</th>\n",
       "      <td>1</td>\n",
       "      <td>B E C</td>\n",
       "    </tr>\n",
       "    <tr>\n",
       "      <th>2</th>\n",
       "      <td>2</td>\n",
       "      <td>E C A</td>\n",
       "    </tr>\n",
       "    <tr>\n",
       "      <th>3</th>\n",
       "      <td>3</td>\n",
       "      <td>D E B</td>\n",
       "    </tr>\n",
       "    <tr>\n",
       "      <th>4</th>\n",
       "      <td>4</td>\n",
       "      <td>D B C</td>\n",
       "    </tr>\n",
       "    <tr>\n",
       "      <th>...</th>\n",
       "      <td>...</td>\n",
       "      <td>...</td>\n",
       "    </tr>\n",
       "    <tr>\n",
       "      <th>195</th>\n",
       "      <td>195</td>\n",
       "      <td>B A C</td>\n",
       "    </tr>\n",
       "    <tr>\n",
       "      <th>196</th>\n",
       "      <td>196</td>\n",
       "      <td>A B C</td>\n",
       "    </tr>\n",
       "    <tr>\n",
       "      <th>197</th>\n",
       "      <td>197</td>\n",
       "      <td>A C E</td>\n",
       "    </tr>\n",
       "    <tr>\n",
       "      <th>198</th>\n",
       "      <td>198</td>\n",
       "      <td>B C A</td>\n",
       "    </tr>\n",
       "    <tr>\n",
       "      <th>199</th>\n",
       "      <td>199</td>\n",
       "      <td>A B D</td>\n",
       "    </tr>\n",
       "  </tbody>\n",
       "</table>\n",
       "<p>200 rows × 2 columns</p>\n",
       "</div>"
      ],
      "text/plain": [
       "      id prediction\n",
       "0      0      C B D\n",
       "1      1      B E C\n",
       "2      2      E C A\n",
       "3      3      D E B\n",
       "4      4      D B C\n",
       "..   ...        ...\n",
       "195  195      B A C\n",
       "196  196      A B C\n",
       "197  197      A C E\n",
       "198  198      B C A\n",
       "199  199      A B D\n",
       "\n",
       "[200 rows x 2 columns]"
      ]
     },
     "execution_count": 20,
     "metadata": {},
     "output_type": "execute_result"
    }
   ],
   "source": [
    "submission_df"
   ]
  },
  {
   "cell_type": "markdown",
   "id": "ba0b8f43",
   "metadata": {
    "papermill": {
     "duration": 0.010644,
     "end_time": "2023-07-29T07:51:07.134812",
     "exception": false,
     "start_time": "2023-07-29T07:51:07.124168",
     "status": "completed"
    },
    "tags": []
   },
   "source": [
    "# Conclusion\n",
    "\n",
    "**You will understand the basic concept as to the use of LLMs with the data.**"
   ]
  },
  {
   "cell_type": "markdown",
   "id": "bc58c368",
   "metadata": {
    "papermill": {
     "duration": 0.010557,
     "end_time": "2023-07-29T07:51:07.156059",
     "exception": false,
     "start_time": "2023-07-29T07:51:07.145502",
     "status": "completed"
    },
    "tags": []
   },
   "source": [
    "I am a medical doctor working on **artificial intelligence (AI) for medicine**. At present AI is also widely used in the medical field. Particularly, AI performs in the healthcare sector following tasks: **image classification, object detection, semantic segmentation, GANs, text classification, etc**. **If you are interested in AI for medicine, please see my other notebooks.**"
   ]
  }
 ],
 "metadata": {
  "kernelspec": {
   "display_name": "Python 3",
   "language": "python",
   "name": "python3"
  },
  "language_info": {
   "codemirror_mode": {
    "name": "ipython",
    "version": 3
   },
   "file_extension": ".py",
   "mimetype": "text/x-python",
   "name": "python",
   "nbconvert_exporter": "python",
   "pygments_lexer": "ipython3",
   "version": "3.10.12"
  },
  "papermill": {
   "default_parameters": {},
   "duration": 1439.519533,
   "end_time": "2023-07-29T07:51:10.105761",
   "environment_variables": {},
   "exception": null,
   "input_path": "__notebook__.ipynb",
   "output_path": "__notebook__.ipynb",
   "parameters": {},
   "start_time": "2023-07-29T07:27:10.586228",
   "version": "2.4.0"
  }
 },
 "nbformat": 4,
 "nbformat_minor": 5
}
